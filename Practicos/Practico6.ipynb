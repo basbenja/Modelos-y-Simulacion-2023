{
 "cells": [
  {
   "cell_type": "code",
   "execution_count": null,
   "metadata": {},
   "outputs": [],
   "source": [
    "from random import random, normalvariate\n",
    "from math import sqrt, exp, sin, pi, e"
   ]
  },
  {
   "cell_type": "code",
   "execution_count": null,
   "metadata": {},
   "outputs": [],
   "source": [
    "def n_Media_Scuad_Muestrales_X(d, X):\n",
    "    Media = X()\n",
    "    Scuad = 0\n",
    "    n = 1\n",
    "    while n < 100 or sqrt(Scuad/n) > d:\n",
    "        n += 1\n",
    "        nuevaX = X()\n",
    "        MediaAnt = Media\n",
    "        Media = MediaAnt + (nuevaX - MediaAnt) / n\n",
    "        Scuad = Scuad * (1 - 1/(n-1)) + n * (Media - MediaAnt)**2\n",
    "    return n, Media, Scuad\n",
    "\n",
    "def n_Media_Scuad_Muestrales_X_IC(d, z_alfa_2, X):\n",
    "    A = d / (2 * z_alfa_2)\n",
    "    Media = X()\n",
    "    Scuad = 0\n",
    "    n = 1\n",
    "    while n < 100 or sqrt(Scuad/n) > A:\n",
    "        n += 1\n",
    "        nuevaX = X()\n",
    "        MediaAnt = Media\n",
    "        Media = MediaAnt + (nuevaX - MediaAnt) / n\n",
    "        Scuad = Scuad * (1 - 1/(n-1)) + n * (Media - MediaAnt)**2\n",
    "    return n, Media, Scuad\n",
    "\n",
    "def Media_Scuad_Muestrales_X(nSim, X):\n",
    "    Media = X()\n",
    "    Scuad = 0\n",
    "    n = 1\n",
    "    while n < nSim:\n",
    "        n += 1\n",
    "        nuevaX = X()\n",
    "        MediaAnt = Media\n",
    "        Media = MediaAnt + (nuevaX - MediaAnt) / n\n",
    "        Scuad = Scuad * (1 - 1/(n-1)) + n * (Media - MediaAnt)**2\n",
    "    return Media, Scuad"
   ]
  },
  {
   "attachments": {},
   "cell_type": "markdown",
   "metadata": {},
   "source": [
    "## Ejercicio 1\n",
    "Genere n valores de una variable aleatoria normal estándar de manera tal que se cumplan\n",
    "las condiciones: n $\\geq$ 100 y $\\frac{S}{\\sqrt n}$ < 0.1, siendo S el estimador de la desviación estándar de los n datos\n",
    "generados."
   ]
  },
  {
   "attachments": {},
   "cell_type": "markdown",
   "metadata": {},
   "source": [
    "**a)** ¿Cuál es el número de datos generados efectivamente?  \n",
    "**b)** ¿Cuál es la media muestral de los datos generados?  \n",
    "**c)** ¿Cuál es la varianza muestral de los datos generados?"
   ]
  },
  {
   "cell_type": "code",
   "execution_count": null,
   "metadata": {},
   "outputs": [],
   "source": [
    "n, Media, Scuad = n_Media_Scuad_Muestrales_X(0.1, lambda:normalvariate(0,1))\n",
    "print(f'Número de datos generados: {n}')\n",
    "print(f'Media muestral de los datos generados: {Media}')\n",
    "print(f'Varianza muestral de los datos generados: {Scuad}')"
   ]
  },
  {
   "attachments": {},
   "cell_type": "markdown",
   "metadata": {},
   "source": [
    "## Ejercicio 2\n",
    "Estime mediante el método de Monte Carlo la integral  \n",
    "**i)**\n",
    "$$\n",
    "\\int_{0}^{1} \\frac{e^x}{\\sqrt{2x}} dx\n",
    "$$\n",
    "**ii)**\n",
    "$$\n",
    "\\int_{-\\infty}^{\\infty} x^2 e^{-x^2} dx\n",
    "$$"
   ]
  },
  {
   "attachments": {},
   "cell_type": "markdown",
   "metadata": {},
   "source": [
    "**b)** Genere al menos 100 valores y deténgase cuando la desviación estándar muestral S del estimador sea menor que 0,01."
   ]
  },
  {
   "cell_type": "code",
   "execution_count": null,
   "metadata": {},
   "outputs": [],
   "source": [
    "g = lambda x: exp(x) / sqrt(2*x)\n",
    "n, Media, Scuad = n_Media_Scuad_Muestrales_X(0.01, lambda:g(random()))\n",
    "print(f'Número de datos generados: {n}')\n",
    "print(f'Media muestral de los datos generados: {Media}')\n",
    "print(f'Desviación estándar muestral de los datos generados: {sqrt(Scuad)}')\n",
    "\n",
    "# En WolframAlpha, el valor aproximado de esta integral es 2.0685"
   ]
  },
  {
   "cell_type": "code",
   "execution_count": null,
   "metadata": {},
   "outputs": [],
   "source": [
    "g = lambda x: x**2 * exp(-x**2)\n",
    "h = lambda y: g(1/y - 1) * (1/y**2)\n",
    "n, Media, Scuad = n_Media_Scuad_Muestrales_X(0.01, lambda:h(random()))\n",
    "print(f'Número de datos generados: {n}')\n",
    "print(f'Media muestral de los datos generados: {2*Media}')\n",
    "print(f'Desviación estándar muestral de los datos generados: {sqrt(Scuad)}')\n",
    "\n",
    "# En WolframAlpha, el valor aproximado de esta integral es 0.886227"
   ]
  },
  {
   "attachments": {},
   "cell_type": "markdown",
   "metadata": {},
   "source": [
    "## Ejercicio 3\n",
    "Calcule mediante un método de Monte Carlo las siguientes integrales:  \n",
    "**i)**\n",
    "$$\n",
    "\\int_{\\pi}^{2\\pi} \\frac{\\sin(x)}{x} dx\n",
    "$$\n",
    "**ii)**\n",
    "$$\n",
    "\\int_{0}^{\\infty} \\frac{3}{3+x^4} dx\n",
    "$$"
   ]
  },
  {
   "attachments": {},
   "cell_type": "markdown",
   "metadata": {},
   "source": [
    "**a)** Obtenga mediante simulación en computadora el valor de la integral deteniendo la simulación cuando el semi-ancho del intervalo de confianza del 95% sea justo inferior a 0.001"
   ]
  },
  {
   "cell_type": "code",
   "execution_count": null,
   "metadata": {},
   "outputs": [],
   "source": [
    "g = lambda x: sin(x) / x\n",
    "h = lambda y: g(pi * (y+1)) * pi\n",
    "n, Media, Scuad = n_Media_Scuad_Muestrales_X_IC(0.002, 1.96, lambda:h(random()))\n",
    "print(f'Número de datos generados: {n}')\n",
    "print(f'Media muestral de los datos generados: {Media}')\n",
    "print(f'Varianza muestral de los datos generados: {Scuad}')\n",
    "\n",
    "# En WolframAlpha, el valor aproximado de esta integral es -0.433785"
   ]
  },
  {
   "cell_type": "code",
   "execution_count": null,
   "metadata": {},
   "outputs": [],
   "source": [
    "g = lambda x: 3 / (3 + x**4)\n",
    "h = lambda y: g(1/y - 1) * (1 / y**2)\n",
    "n, Media, Scuad = n_Media_Scuad_Muestrales_X_IC(0.002, 1.96, lambda:h(random()))\n",
    "print(f'Número de datos generados: {n}')\n",
    "print(f'Media muestral de los datos generados: {Media}')\n",
    "print(f'Varianza muestral de los datos generados: {Scuad}')\n",
    "\n",
    "# En WolframAlpha, el valor aproximado de esta integral es 1.4618"
   ]
  },
  {
   "attachments": {},
   "cell_type": "markdown",
   "metadata": {},
   "source": [
    "**b)** Indique cuál es el número de simulaciones $N_s$ necesarias en la simulación realizada para lograr la condición pedida  y complete con los valores obtenidos la siguiente tabla (usando 4 decimales):  \n",
    "|Número de simulaciones |I |S |IC(95%) |\n",
    "|---|---|---|---|\n",
    "|1000|\n",
    "|5000|\n",
    "|7000|"
   ]
  },
  {
   "cell_type": "code",
   "execution_count": null,
   "metadata": {},
   "outputs": [],
   "source": [
    "from tabulate import tabulate\n",
    "\n",
    "nSim = [1000, 5000, 7000]\n",
    "\n",
    "gi = lambda x: sin(x) / x\n",
    "hi = lambda y: gi(pi * (y+1)) * pi\n",
    "\n",
    "gii = lambda x: 3 / (3 + x**4)\n",
    "hii = lambda y: gii(1/y - 1) * (1 / y**2)\n",
    "\n",
    "z_alfa_2 = 1.96\n",
    "\n",
    "data = []\n",
    "for func in [hi, hii]:\n",
    "    for N in nSim:\n",
    "        Media, Scuad = Media_Scuad_Muestrales_X(N, lambda: func(random()))\n",
    "        IC95 = (round(Media - z_alfa_2 * sqrt(Scuad/N), 5), round(Media + z_alfa_2 * sqrt(Scuad/N), 5)) \n",
    "        data.append([N, Media, sqrt(Scuad), IC95])\n",
    "    n, Media, Scuad = n_Media_Scuad_Muestrales_X_IC(0.002, z_alfa_2, lambda:func(random()))\n",
    "    IC95 = (round(Media - z_alfa_2 * sqrt(Scuad/N), 5), round(Media + z_alfa_2 * sqrt(Scuad/N), 5))\n",
    "    data.append([n, Media, sqrt(Scuad), IC95])\n",
    "\n",
    "print(tabulate(\n",
    "    data,\n",
    "    headers=['Número de simulaciones', 'I̅', 'S', 'IC95%'],\n",
    "    tablefmt='simple_grid',\n",
    "    colalign=('center',)\n",
    "))"
   ]
  },
  {
   "attachments": {},
   "cell_type": "markdown",
   "metadata": {},
   "source": [
    "## Ejercicio 4\n",
    "Para $U_1, U_2, ... $ variables aleatorias uniformemente distribuidas en el intervalo (0,1), se define:\n",
    "$$\n",
    "N = Minimo \\; \\biggl\\{n: \\sum_{i=1}^{n} U_i > 1\\biggl\\}\n",
    "$$\n",
    "Esto es, N es igual a la cantidad de números aleatorias que deben sumarse para exceder a 1."
   ]
  },
  {
   "attachments": {},
   "cell_type": "markdown",
   "metadata": {},
   "source": [
    "**c)** Dé el valor de la varianza muestral de N̅ correspondiente a 1000 ejecuciones de la simulación y dar una estimación de e mediante un intervalo de confianza del 95% con longitud a lo sumo 0.025"
   ]
  },
  {
   "cell_type": "code",
   "execution_count": null,
   "metadata": {},
   "outputs": [],
   "source": [
    "def f():\n",
    "    res = 0\n",
    "    accum = 0\n",
    "    while accum < 1:\n",
    "        res += 1\n",
    "        accum += random()\n",
    "    return res\n",
    "\n",
    "nSim = 1000\n",
    "Media, Scuad = Media_Scuad_Muestrales_X(nSim, f)\n",
    "print(f'Varianza muestral de N̅ correspondiente a {nSim} simulaciones: {Scuad/nSim}')\n",
    "print(f'Valor real de la varianza muestral correspondiente a {nSim} simulaciones: {(1/nSim) * (3*e - e**2)}')\n",
    "\n",
    "n, Media, Scuad = n_Media_Scuad_Muestrales_X_IC(0.025, 1.96, f)\n",
    "print(f'Estimación de e mediante un intervalo de confianza del 95% con longitud a lo sumo 0.025 {Media}')"
   ]
  },
  {
   "attachments": {},
   "cell_type": "markdown",
   "metadata": {},
   "source": [
    "## Ejercicio 5"
   ]
  },
  {
   "attachments": {},
   "cell_type": "markdown",
   "metadata": {},
   "source": [
    "Considere una sucesión de números aleatorios $U_i$ y sea M el primer n tal que la variable $U_n$ es menor que su variable predecesora. Es decir:\n",
    "$$\n",
    "M = n \\qquad tal\\ que \\qquad U_1 \\leq U_2 \\leq ... \\leq U_n-1 \\ y \\ U_n \\lt U_n-1\n",
    "$$"
   ]
  },
  {
   "cell_type": "code",
   "execution_count": null,
   "metadata": {},
   "outputs": [],
   "source": [
    "def M():\n",
    "    n = 1\n",
    "    U = random()\n",
    "    V = random()\n",
    "    while U <= V:\n",
    "        n += 1\n",
    "        U = V\n",
    "        V = random()\n",
    "    return n+1"
   ]
  },
  {
   "attachments": {},
   "cell_type": "markdown",
   "metadata": {},
   "source": [
    "**c)** Utilice que $E[M] = e$ para dar un estimador de $E[M]$, calcule el valor de su varianza muestral. Mediante una simulación estime el valor de $e$ deteniéndose cuando la varianza muestral sea menor que 0,01."
   ]
  },
  {
   "cell_type": "code",
   "execution_count": null,
   "metadata": {},
   "outputs": [],
   "source": [
    "n, Media, Scuad = n_Media_Scuad_Muestrales_X(0.01, M)\n",
    "print(f'Número de datos generados: {n}')\n",
    "print(f'Media muestral de los datos generados: {Media}')\n",
    "print(f'Varianza muestral de los datos generados: {Scuad}')"
   ]
  },
  {
   "attachments": {},
   "cell_type": "markdown",
   "metadata": {},
   "source": [
    "**d)** Dé una estimación de $e$ mediante un intervalo de ancho menor que 0,1 y con una confianza del 95%"
   ]
  },
  {
   "cell_type": "code",
   "execution_count": null,
   "metadata": {},
   "outputs": [],
   "source": [
    "z_alfa_2 = 1.96\n",
    "n, Media, Scuad = n_Media_Scuad_Muestrales_X_IC(0.01, z_alfa_2, M)\n",
    "print(f'Número de datos generados: {n}')\n",
    "print(f'Media muestral de los datos generados: {Media}')\n",
    "print(f'Varianza muestral de los datos generados: {Scuad}')\n",
    "print(f'IC(95%) = ({Media - z_alfa_2 * sqrt(Scuad/n)}, {Media + z_alfa_2 * sqrt(Scuad/n)})')"
   ]
  },
  {
   "attachments": {},
   "cell_type": "markdown",
   "metadata": {},
   "source": [
    "## Ejercicio 6\n",
    "Estime $\\pi$ sorteando puntos uniformemente distribuidos en el cuadrado cuyos vértices son: (1,1), (-1,1), (-1,-1), (1,-1),y contabilizando la fracción que cae dentro del círculo inscrito de radio 1."
   ]
  },
  {
   "attachments": {},
   "cell_type": "markdown",
   "metadata": {},
   "source": [
    "Razonamiento:  \n",
    "Sea X una variable aleatoria con distribución Bernoulli(p), que toma el valor 1 si el punto (X,Y) car dentro del círculo inscrito de radio 1, y 0 sino.  \n",
    "Notemos que:  \n",
    "P((X,Y) caiga dentro del círculo inscrito de radio 1) = p = E[X]  \n",
    "Por lo tanto, para estimar p podemos usar el estimador media muestral para estimar E[X]."
   ]
  },
  {
   "cell_type": "code",
   "execution_count": null,
   "metadata": {},
   "outputs": [],
   "source": [
    "def caeDentro():\n",
    "    # Se genera un punto uniformemente distribuido en el cuadrado\n",
    "    X = random()*2 - 1\n",
    "    Y = random()*2 - 1\n",
    "    return X**2 + Y**2 <= 1"
   ]
  },
  {
   "attachments": {},
   "cell_type": "markdown",
   "metadata": {},
   "source": [
    "**a)** Utilice un algoritmo para estimar la proporción de puntos que caen dentro del círculo y deténgase cuando la desviación estándar muestral del estimador sea menor que 0,01."
   ]
  },
  {
   "attachments": {},
   "cell_type": "markdown",
   "metadata": {},
   "source": [
    "Notar que p es la proporción de puntos del cuadrado que caen dentro del círculo. Es decir:  \n",
    "$$\n",
    "p = \\frac{Area(circulo)}{Area(cuadrado)} = \\frac{\\pi.r^2}{2.2} = \\frac{\\pi}{4} \n",
    "$$\n",
    "  \n",
    "O sea que para estimar $\\pi$ hay quee multiplicar p por 4."
   ]
  },
  {
   "cell_type": "code",
   "execution_count": null,
   "metadata": {},
   "outputs": [],
   "source": [
    "n, Media, Scuad = n_Media_Scuad_Muestrales_X(0.01, caeDentro)\n",
    "print(Media*4)"
   ]
  },
  {
   "attachments": {},
   "cell_type": "markdown",
   "metadata": {},
   "source": [
    "**b)** Obtenga un intervalo de ancho menor que 0.1, el cual contenga a $\\pi$ con el 95% de confianza. ¿Cuántas ejecuciones son necesarias?"
   ]
  },
  {
   "cell_type": "code",
   "execution_count": null,
   "metadata": {},
   "outputs": [],
   "source": [
    "z_alfa_2 = 1.96\n",
    "n, Media, Scuad = n_Media_Scuad_Muestrales_X_IC(0.1, z_alfa_2, caeDentro)\n",
    "print(f'Ejecuciones necesarias: {n}')\n",
    "print(f'Ancho del intervalo: {2 * z_alfa_2 * sqrt(Scuad/n)}')\n",
    "print(Media*4)"
   ]
  }
 ],
 "metadata": {
  "kernelspec": {
   "display_name": "Python 3",
   "language": "python",
   "name": "python3"
  },
  "language_info": {
   "codemirror_mode": {
    "name": "ipython",
    "version": 3
   },
   "file_extension": ".py",
   "mimetype": "text/x-python",
   "name": "python",
   "nbconvert_exporter": "python",
   "pygments_lexer": "ipython3",
   "version": "3.10.6"
  },
  "orig_nbformat": 4
 },
 "nbformat": 4,
 "nbformat_minor": 2
}
