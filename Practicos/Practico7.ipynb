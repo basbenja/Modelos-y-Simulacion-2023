{
 "cells": [
  {
   "cell_type": "code",
   "execution_count": 1,
   "metadata": {},
   "outputs": [],
   "source": [
    "from scipy.stats import chi2, binom, uniform, expon, norm\n",
    "from random import gauss, gammavariate\n",
    "from math import sqrt, erf"
   ]
  },
  {
   "cell_type": "code",
   "execution_count": 2,
   "metadata": {},
   "outputs": [],
   "source": [
    "def T(k, n, p_i, N):\n",
    "    \"\"\"\n",
    "    Estadístico Chi Cuadrado.\n",
    "\n",
    "    Args:\n",
    "        k (int): cantidad de valores que puede tomar la variable aleatoria\n",
    "        n (int): tamaño muestral\n",
    "        p_i (list[float]): probabilidades teóricas para cada valor que puede\n",
    "        tomar la distribución de la hipótesis nula\n",
    "        N (list[int]): frecuencias observadas\n",
    "\n",
    "    Returns:\n",
    "        t (float): estadístico Chi Cuadrad observado a partir de la muestra\n",
    "    \"\"\"\n",
    "    t = 0\n",
    "    for i in range(k):\n",
    "        t += (N[i] - n*p_i[i])**2 / (n*p_i[i])\n",
    "    return t\n",
    "\n",
    "def D(n, X, F):\n",
    "    \"\"\"\n",
    "    Estadístico de Kolmogorov-Smirnov.\n",
    "\n",
    "    Args:\n",
    "        n (int): tamaño muestral\n",
    "        X (list[float]): muestra obtenida\n",
    "        F (function): función de distribución acumulada de la distribución planteada\n",
    "        en la hipótesis nula\n",
    "\n",
    "    Returns:\n",
    "        d (float): estadístico de Kolmogorov-Smirnov observado a partir de la muestra\n",
    "    \"\"\"\n",
    "    d = 0\n",
    "    for j in range(n):\n",
    "        Fe_F = (j+1)/n - F(X[j])\n",
    "        F_Fe = F(X[j]) - j/n\n",
    "        d = max(d, Fe_F, F_Fe)\n",
    "    return d\n",
    "\n",
    "def aprox_p_valor_con_uniformes(nSim, n, d):\n",
    "    \"\"\"\n",
    "    Aproximación del p-valor de una distribución continua con simulaciones.\n",
    "\n",
    "    Args:\n",
    "        nSim (int): cantidad de simulaciones a realizar\n",
    "        n (int): tamaño de cada muestra a generar\n",
    "        d (float): estadístico de Kolmogorov-Smirnov obtenido a partir de la muestra\n",
    "        original\n",
    "\n",
    "    Returns:\n",
    "        p_valor/nSim (float): aproximación del p-valor en nSim simulaciones\n",
    "    \"\"\"\n",
    "    p_valor = 0\n",
    "    nSim = 1000\n",
    "    for _ in range(nSim):\n",
    "        uniformes = uniform.rvs(size=n)\n",
    "        uniformes.sort()\n",
    "        d_j = D(n, uniformes, uniform.cdf)\n",
    "        if d_j >= d:\n",
    "            p_valor += 1\n",
    "    return p_valor/nSim\n",
    "\n",
    "def frecuencias_observadas_discreta(n, k, p_i):\n",
    "    \"\"\"\n",
    "    Algoritmo para simular las frecuencias observadas cuando se trata de una\n",
    "    variable aleatoria discreta.\n",
    "\n",
    "    Args:\n",
    "        n (int): tamaño muestral\n",
    "        k (int): cantidad de valores que puede tomar la variable aleatoria\n",
    "        p_i (list[float]): probabilidades teóricas para cada valor que puede\n",
    "        tomar la distribución de la hipótesis nula\n",
    "\n",
    "    Returns:\n",
    "        NN (list[int]): frecuencias observadas simuladas\n",
    "    \"\"\"\n",
    "    N = [0] * k\n",
    "    for i in range(k):\n",
    "        p = p_i[i] / (1 - sum(p_i[:i]))\n",
    "        N[i] = binom.rvs(n, p)\n",
    "        n -= N[i]\n",
    "    return N\n",
    "\n",
    "# Algoritmo para simular N_0, N_1,..., N_k-1 cuando se trata de una v.a. continua\n",
    "def frecuenciasObservadasContinua(y_i, X_i):\n",
    "    N = [0] * (len(y_i) + 1)\n",
    "    X_i.sort()\n",
    "    i = 0\n",
    "    j = 0\n",
    "    while i < len(X_i):\n",
    "        if X_i[i] <= y_i[j]:\n",
    "            N[j] += 1\n",
    "            i += 1\n",
    "        else:\n",
    "            j += 1\n",
    "            if j == len(y_i):   # Esto ocurre solo si hay algún valor que sea mayor al último y_i\n",
    "                break\n",
    "    N[-1] = len(X_i) - sum(N)\n",
    "    return N"
   ]
  },
  {
   "attachments": {},
   "cell_type": "markdown",
   "metadata": {},
   "source": [
    "## Ejercicio 1\n",
    "De acuerdo con la teoría genética de Mendel, cierta planta de guisantes debe producir flores blancas, rosas o rojas con probabilidad 1/4, 1/2 y 1/4, respectivamente. Para verificar experimentalmente la teoría, se estudió una muestra de 564 guisantes, donde se encontró que 141 produjeron flores blancas, 291 flores rosas y 132 flores rojas. Aproximar el p-valor de esta muestra:  "
   ]
  },
  {
   "cell_type": "code",
   "execution_count": 7,
   "metadata": {},
   "outputs": [
    {
     "name": "stdout",
     "output_type": "stream",
     "text": [
      "Valor observado del estadístico T: 0.8617021276595745\n"
     ]
    }
   ],
   "source": [
    "# Tamaño muestral\n",
    "n = 564\n",
    "\n",
    "# Valores de la muestra\n",
    "k = 3\n",
    "\n",
    "# Frecuencias observadas\n",
    "N_i = [141, 291, 132]\n",
    "p_i = [1/4, 1/2, 1/4]\n",
    "\n",
    "# Estadístico\n",
    "t = T(k, n, p_i, N_i)\n",
    "print(f'Valor observado del estadístico T: {t}')"
   ]
  },
  {
   "attachments": {},
   "cell_type": "markdown",
   "metadata": {},
   "source": [
    "&emsp; **a)** utilizando la prueba de Pearson con aproximación chi-cuadrada  "
   ]
  },
  {
   "cell_type": "code",
   "execution_count": 8,
   "metadata": {},
   "outputs": [
    {
     "name": "stdout",
     "output_type": "stream",
     "text": [
      "p-valor con test Chi-cuadrado: 0.6499557054800363\n"
     ]
    }
   ],
   "source": [
    "p_valor = 1 - chi2.cdf(t, k-1)\n",
    "print(f'p-valor con test Chi-cuadrado: {p_valor}')"
   ]
  },
  {
   "attachments": {},
   "cell_type": "markdown",
   "metadata": {},
   "source": [
    "&emsp; **b)** realizando una simulación."
   ]
  },
  {
   "cell_type": "code",
   "execution_count": 9,
   "metadata": {},
   "outputs": [
    {
     "name": "stdout",
     "output_type": "stream",
     "text": [
      "p-valor con 1000 simulaciones: 0.611\n"
     ]
    }
   ],
   "source": [
    "# Para la simulación, genero las frecuencias observadas\n",
    "nSim = 1000\n",
    "p_valor = 0\n",
    "for i in range(nSim):\n",
    "    N_i = frecuencias_observadas_discreta(n, k, p_i)\n",
    "    t_i = T(k, n, p_i, N_i)\n",
    "    if t_i >= t:\n",
    "        p_valor += 1\n",
    "print(f'p-valor con {nSim} simulaciones: {p_valor / nSim}')"
   ]
  },
  {
   "attachments": {},
   "cell_type": "markdown",
   "metadata": {},
   "source": [
    "## Ejercicio 2\n",
    "Para verificar que cierto dado no estaba trucado, se registraron 1000 lanzamientos, resultando que el número de veces que el dado arrojó el valor i (i = 1,2,3,4,5,6) fue, respectivamente, 158, 172, 164, 181, 160, 165. Aproximar el p−valor de la prueba: “el dado es honesto”"
   ]
  },
  {
   "attachments": {},
   "cell_type": "markdown",
   "metadata": {},
   "source": [
    "NOTAR: la prueba de \"el dado es honesto\" se traduce como \"los valores de la muestra provienen de una distribución uniforme discreta U ~ {1,...6}\", donde en este caso $p_i = 1/6$ para i = 1,...,6"
   ]
  },
  {
   "attachments": {},
   "cell_type": "markdown",
   "metadata": {},
   "source": [
    "&emsp; **a)** Utilizando la prueba de Pearson con aproximación chi-cuadrada,\n"
   ]
  },
  {
   "cell_type": "code",
   "execution_count": null,
   "metadata": {},
   "outputs": [],
   "source": [
    "# Tamaño muestral\n",
    "n = 1000\n",
    "\n",
    "# Valores de la muestra\n",
    "k = 6\n",
    "\n",
    "# Frecuencias observadas\n",
    "N_i = [158, 172, 164, 181, 160, 165]\n",
    "p_i = [1/k] * 6\n",
    "\n",
    "# Estadístico\n",
    "t = T(k, n, p_i, N_i)\n",
    "print(f'Valor observado del estadístico T: {t}')"
   ]
  },
  {
   "cell_type": "code",
   "execution_count": null,
   "metadata": {},
   "outputs": [],
   "source": [
    "p_valor = 1 - chi2.cdf(t, k-1)\n",
    "print(f'p-valor con test Chi-cuadrado: {p_valor}')"
   ]
  },
  {
   "attachments": {},
   "cell_type": "markdown",
   "metadata": {},
   "source": [
    "&emsp; **b)** Realizando una simulación."
   ]
  },
  {
   "cell_type": "code",
   "execution_count": null,
   "metadata": {},
   "outputs": [],
   "source": [
    "nSim = 1000\n",
    "p_valor = 0\n",
    "for i in range(nSim):\n",
    "    N_i = frecuencias_observadas_discreta(n, k, p_i)\n",
    "    t_i = T(k, n, p_i, N_i)\n",
    "    if t_i >= t:\n",
    "        p_valor += 1\n",
    "print(f'p-valor con {nSim} simulaciones: {p_valor / nSim}')"
   ]
  },
  {
   "attachments": {},
   "cell_type": "markdown",
   "metadata": {},
   "source": [
    "## Ejercicio 3\n",
    "Calcular una aproximación del p−valor de la hipótesis: “Los siguientes 10 números son aleatorios”:  \n",
    "&emsp; 0.12, 0.18, 0.06, 0.33, 0.72, 0.83, 0.36, 0.27, 0.77, 0.74."
   ]
  },
  {
   "attachments": {},
   "cell_type": "markdown",
   "metadata": {},
   "source": [
    "Usando **test de Kolmogorov - Smirnov**"
   ]
  },
  {
   "cell_type": "code",
   "execution_count": null,
   "metadata": {},
   "outputs": [],
   "source": [
    "X = [0.12, 0.18, 0.06, 0.33, 0.72, 0.83, 0.36, 0.27, 0.77, 0.74]\n",
    "n = len(X)\n",
    "\n",
    "# 1) Ordenamos los datos de menor a mayor\n",
    "X.sort()\n",
    "\n",
    "# 2) Calculamos el estadístico\n",
    "d = D(n, X, uniform.cdf)\n",
    "print(f'Valor observado del estadístico D: {d}')\n",
    "\n",
    "# 3) Aproximamos el p-valor con simulaciones usando teorema\n",
    "p_valor_sim = aprox_p_valor_con_uniformes(1000, n, d)\n",
    "print(f'p-valor con {nSim} simulaciones: {p_valor_sim}')\n"
   ]
  },
  {
   "attachments": {},
   "cell_type": "markdown",
   "metadata": {},
   "source": [
    "## Ejercicio 4\n",
    "Calcular una aproximación del p−valor de la hipótesis: “Los siguientes 13 valores provienen de una distribución exponencial con media 50.0”:  \n",
    "&emsp; 86.0 , 133.0 , 75.0 , 22.0 , 11.0 , 144.0 , 78.0 , 122.0 , 8.0 , 146.0 , 33.0 , 41.0 , 99.0 ."
   ]
  },
  {
   "attachments": {},
   "cell_type": "markdown",
   "metadata": {},
   "source": [
    "Usando **test de Kolmogorov - Smirnov**"
   ]
  },
  {
   "cell_type": "code",
   "execution_count": null,
   "metadata": {},
   "outputs": [],
   "source": [
    "X = [86.0 , 133.0 , 75.0 , 22.0 , 11.0 , 144.0 , 78.0 , 122.0 , 8.0 , 146.0 , 33.0 , 41.0 , 99.0]\n",
    "n = len(X)\n",
    "\n",
    "# 1) Ordenamos los datos de menor a mayor\n",
    "X.sort()\n",
    "\n",
    "# 2) Calculamos el estadístico\n",
    "lamda = 1/50\n",
    "d = D(n, X, lambda x: expon.cdf(x, scale=1/lamda))\n",
    "print(f'Valor observado del estadístico D: {d}')\n",
    "\n",
    "# 3) Aproximamos el p-valor con simulaciones usando teorema\n",
    "p_valor_sim = aprox_p_valor_con_uniformes(1000, n, d)\n",
    "print(f'p-valor con {nSim} simulaciones: {p_valor_sim}')"
   ]
  },
  {
   "attachments": {},
   "cell_type": "markdown",
   "metadata": {},
   "source": [
    "## Ejercicio 5\n",
    "Calcular una aproximación del p−valor de la prueba de que los siguientes datos corresponden a una distribución binomial con parámetros (n = 8, p), donde p no se conoce:  \n",
    "&emsp; 6, 7, 3, 4, 7, 3, 7, 2, 6, 3, 7, 8, 2, 1, 3, 5, 8, 7."
   ]
  },
  {
   "attachments": {},
   "cell_type": "markdown",
   "metadata": {},
   "source": [
    "Como en este caso no tenemos p especificado, tenemos que usar su estimador. Para ello, notemos que si X ~ B(n,p), entonces E[X] = np, y además tenemos que si tenemos una muestra $X_1,...,X_m$ con $X_i \\sim B(n,p)$, entonces el estimador de E[X] es la media muestral.  \n",
    "En este caso, bajo la hipótesis nula, tenemos que los datos provienen de una binomial con parámetros (n=8, p). Por lo tanto, para estimar E[X] y así poder obtener una estimación de p, calculamos la media muestral de los datos."
   ]
  },
  {
   "cell_type": "code",
   "execution_count": 3,
   "metadata": {},
   "outputs": [
    {
     "name": "stdout",
     "output_type": "stream",
     "text": [
      "Valor observado del estadístico T: 31.49933093415532\n"
     ]
    }
   ],
   "source": [
    "X = [6, 7, 3, 4, 7, 3, 7, 2, 6, 3, 7, 8, 2, 1, 3, 5, 8, 7]\n",
    "tam_muestra = len(X)\n",
    "k = 9\n",
    "n = 8\n",
    "\n",
    "# Estimamos p a partir de la muestra\n",
    "media_muestral = sum(X) / tam_muestra\n",
    "_p = media_muestral / n\n",
    "\n",
    "# Estimamos las probabilidades usando la p estimada\n",
    "p_i = [binom.pmf(x, n=n, p=_p) for x in range(k)]\n",
    "\n",
    "# Frecuencias observadas\n",
    "N = [0] * k\n",
    "for i in range(tam_muestra):\n",
    "    N[X[i]] += 1\n",
    "\n",
    "# Estadístico\n",
    "t = T(k, tam_muestra, p_i, N)\n",
    "print(f'Valor observado del estadístico T: {t}')"
   ]
  },
  {
   "attachments": {},
   "cell_type": "markdown",
   "metadata": {},
   "source": [
    "Con **test Chi-cuadrado**"
   ]
  },
  {
   "cell_type": "code",
   "execution_count": 4,
   "metadata": {},
   "outputs": [
    {
     "name": "stdout",
     "output_type": "stream",
     "text": [
      "p-valor con test Chi-cuadrado: 0.0000502799\n"
     ]
    }
   ],
   "source": [
    "p_valor = 1 - chi2.cdf(t, k-1-1)    # Hay que restar un grado de libertad por cada parámetro estimado\n",
    "print(f'p-valor con test Chi-cuadrado: {p_valor:.10f}')"
   ]
  },
  {
   "attachments": {},
   "cell_type": "markdown",
   "metadata": {},
   "source": [
    "Con **simulaciones**"
   ]
  },
  {
   "cell_type": "code",
   "execution_count": 6,
   "metadata": {},
   "outputs": [
    {
     "name": "stdout",
     "output_type": "stream",
     "text": [
      "p-valor con 1000 simulaciones: 0.01\n"
     ]
    }
   ],
   "source": [
    "nSim = 1000\n",
    "p_valor = 0\n",
    "\n",
    "for i in range(nSim):\n",
    "    # 1) Se simula X1,...,Xn con _p_orig (estimación de p a partir de la muestra original)\n",
    "    X = binom.rvs(n=8, p=_p, size=tamMuestra)\n",
    "    \n",
    "    # 2) Se calculan las frecuencias observadas\n",
    "    N = [0] * k\n",
    "    for value in X:\n",
    "        N[value] += 1\n",
    "    \n",
    "    # 3) Se vuelve a estimar p\n",
    "    mediaMuestral = sum(X) / tamMuestra\n",
    "    _p_sim = mediaMuestral / 8\n",
    "    \n",
    "    # 4) Se vuelven a calcular las probabilidades con el nuevo parámetro estimado\n",
    "    p_i = [binom.pmf(x, n=8, p=_p_sim) for x in range(k)]\n",
    "    \n",
    "    # 5) Se calcula el estadístico\n",
    "    t_i = T(k, tamMuestra, p_i, N)\n",
    "    if t_i >= t:\n",
    "        p_valor += 1\n",
    "\n",
    "print(f'p-valor con {nSim} simulaciones: {p_valor / nSim}')"
   ]
  },
  {
   "attachments": {},
   "cell_type": "markdown",
   "metadata": {},
   "source": [
    "## Ejercicio 6\n",
    "Un escribano debe validar un juego en cierto programa de televisión. El mismo consiste en hacer girar una rueda y obtener un premio según el sector de la rueda que coincida con una aguja. Hay 10 premios posibles, y las áreas de la rueda para los distintos premios, numerados del 1 al 10, son\n",
    "respectivamente:\n",
    "$$\n",
    "31\\%, 22\\%, 12\\%, 10\\%, 8\\%, 6\\%, 4\\%, 4\\%, 2\\% \\; y \\; 1\\%.\n",
    "$$\n",
    "Los premios con número alto (e.j. un auto 0Km) son mejores que los premios con número bajo (e.j. 2x1 para entradas en el cine). El escribano hace girar la rueda hasta que se cansa, y anota cuántas veces sale cada sector. Los resultados, para los premios del 1 al 10, respectivamente, son:  \n",
    "$$\n",
    "188, 138, 87, 65, 48, 32, 30, 34, 13 \\; y \\; 2.\n",
    "$$"
   ]
  },
  {
   "attachments": {},
   "cell_type": "markdown",
   "metadata": {},
   "source": [
    "**NOTAR**: los datos que da en el ejercicio (188, 138, 87, ...) son las frecuencias observadas de la muestra. Es decir, la muestra que se ontuvo es una en donde aparece:  \n",
    "- 188 veces el número 1\n",
    "- 138 veces el número 2\n",
    "- 87 veces el número 3\n",
    "- ...\n",
    "- 2 veces el número 10"
   ]
  },
  {
   "attachments": {},
   "cell_type": "markdown",
   "metadata": {},
   "source": [
    "&emsp; **(a)** Construya una tabla con los datos disponibles"
   ]
  },
  {
   "attachments": {},
   "cell_type": "markdown",
   "metadata": {},
   "source": [
    "&emsp; **(b)** Diseñe una prueba de hipótesis para determinar si la rueda es justa"
   ]
  },
  {
   "attachments": {},
   "cell_type": "markdown",
   "metadata": {},
   "source": [
    "&emsp;&emsp; $H_0$: los valores de la muestra provienen de una variable aleatoria X tal que\n",
    "$$\n",
    "p_1 = 0.31, \\; p_2 = 0.22, \\; p_3 = 0.12, \\; p_4 = 0.1, \\; p_5 = 0.08, \\; p_6 = 0.06, \\; p_7 = 0.04, \\; p_8 = 0.04, \\; p_9 = 0.02, \\; p_10 = 0.01, \\; donde \\; p_i = P(X = i)\n",
    "$$"
   ]
  },
  {
   "attachments": {},
   "cell_type": "markdown",
   "metadata": {},
   "source": [
    "&emsp; **(c)** Defina el p-valor a partir de la hipótesis nula"
   ]
  },
  {
   "attachments": {},
   "cell_type": "markdown",
   "metadata": {},
   "source": [
    "Dado:\n",
    "$$\n",
    "    T = \\sum_{i=1}^{10}\\frac{(N_i - np_i)^2}{np_i}\n",
    "$$\n",
    "donde\n",
    "- $N_i\\text{ son las frecuencias observadas en la muestra}: N_1 = 188, \\; N_2 = 138, \\; N_3 = 87, \\; N_4 = 65, \\; N_5 = 48, \\; N_6 = 32, \\; N_7 = 30, \\; N_8 = 34, \\; N_9 = 13, \\; N_{10} = 2,$\n",
    "- $\\text{n es el tamaño de la muestra}, $\n",
    "- $p_i \\text{ son las probabilidades teóricas}: p_1 = 0.31, \\; p_2 = 0.22, \\; p_3 = 0.12, \\; p_4 = 0.1, \\; p_5 = 0.08, \\; p_6 = 0.06, \\; p_7 = 0.04, \\; p_8 = 0.04, \\; p_9 = 0.02, \\; p_{10} = 0.01$\n",
    "\n",
    "el p-valor se lo define como:\n",
    "$$\n",
    "p-valor = P(T \\ge t)\n",
    "$$,\n",
    "donde t es el valor obervado de T a partir de la muestra original."
   ]
  },
  {
   "attachments": {},
   "cell_type": "markdown",
   "metadata": {},
   "source": [
    "&emsp; **(d)** Calcule el p-valor bajo la hipótesis de que la rueda es justa, usando la aproximación chi cuadrado"
   ]
  },
  {
   "cell_type": "code",
   "execution_count": null,
   "metadata": {},
   "outputs": [],
   "source": [
    "# Frecuencias observadas\n",
    "N = [188, 138, 87, 65, 48, 32, 30, 34, 13, 2]\n",
    "\n",
    "# Probabilidades\n",
    "p_i = [0.31, 0.22, 0.12, 0.1, 0.08, 0.06, 0.04, 0.04, 0.02, 0.01]\n",
    "\n",
    "# Tamaño muestral\n",
    "n = sum(N)\n",
    "\n",
    "# Valores posibles: del 1 al 10\n",
    "k = 10\n",
    "\n",
    "# Estadístico\n",
    "t = T(k, n, p_i, N)\n",
    "print(f'Valor observado del estadístico T: {t}')\n",
    "\n",
    "# p-valor usando la aproximación chi cuadrado\n",
    "p_valor = 1 - chi2.cdf(t, k-1)\n",
    "print(f'p-valor con test Chi-cuadrado: {p_valor:.10f}')"
   ]
  },
  {
   "attachments": {},
   "cell_type": "markdown",
   "metadata": {},
   "source": [
    "&emsp; **(e)** Calcule el p-valor bajo la hipótesis de que la rueda es justa, usando una simulación."
   ]
  },
  {
   "cell_type": "code",
   "execution_count": null,
   "metadata": {},
   "outputs": [],
   "source": [
    "nSim = 1000\n",
    "p_valor = 0\n",
    "for i in range(nSim):\n",
    "    N_i = frecuencias_observadas_discreta(n, k, p_i)\n",
    "    t_i = T(k, n, p_i, N_i)\n",
    "    if t_i >= t:\n",
    "        p_valor += 1\n",
    "print(f'p-valor con {nSim} simulaciones: {p_valor / nSim}')"
   ]
  },
  {
   "attachments": {},
   "cell_type": "markdown",
   "metadata": {},
   "source": [
    "## Ejercicio 7\n",
    "Generar los valores correspondientes a 30 variables aleatorias exponenciales independientes, cada una con media 1. Luego, en base al  estadístico de prueba de Kolmogorov-Smirnov, aproxime el p−valor de la prueba de que los datos realmente provienen de una distribución exponencial con media 1."
   ]
  },
  {
   "cell_type": "code",
   "execution_count": null,
   "metadata": {},
   "outputs": [],
   "source": [
    "# H_0: los datos de la muestra provienen de una variable aleatoria exponencial con media 1\n",
    "\n",
    "# Tamaño muestral\n",
    "n = 100\n",
    "X = expon.rvs(scale=1, size=n)\n",
    "\n",
    "# 1) Ordenamos los datos de menor a mayor\n",
    "X.sort()\n",
    "\n",
    "# 2) Calculamos el estadístico\n",
    "d = D(n, X, lambda x: expon.cdf(x, scale=1))\n",
    "print(f'Valor observado del estadístico: {d}')\n",
    "\n",
    "# 3) Aproximamos el p-valor con simulaciones usando teorema\n",
    "p_valor_sim = aprox_p_valor_con_uniformes(1000, n, d)\n",
    "print(f'p-valor con {nSim} simulaciones: {p_valor_sim}')"
   ]
  },
  {
   "attachments": {},
   "cell_type": "markdown",
   "metadata": {},
   "source": [
    "## Ejercicio 8\n",
    "Se sortean elementos de un conjunto de datos que tiene una distribución t-student de 11 grados de libertad. El investigador, que no conoce la forma verdadera de la distribución, asume que la misma es normal.\n",
    "\n",
    "\n",
    "Analice la validez de esta suposición para muestras de tamaños 10, 20, 100 y 1000 elementos. Para ello realice simulaciones numéricas e implemente el test de Kolmogorov-Smirnov a los datos simulados, asumiendo una distribución N(0,1). Presente los resultados en una tabla que contenga el número de elementos de la simulación, el valor del estadístico D y el p−valor.\n",
    "\n",
    "\n",
    "Ayuda: Función de probabilidad normal: Para obtener la función de probabilidad normal, se puede usar la función `math.erf`. Por ejemplo, la cantidad `math.erf(x/math.sqrt(2.))/2.+0.5` equivale a\n",
    "$$\n",
    "\\int_{-\\infty}^{x} N(0,1)(t)dt\n",
    "$$\n",
    "Ayuda: Generación de números aleatorios con una distribución t-student: Utilice el siguiente código para generar números aleatorios que siguen una distribución T-student:\n",
    "``` python\n",
    "import math\n",
    "import random\n",
    "\n",
    "def rt(df): # df grados de libertad\n",
    "    x = random.gauss(0.0, 1.0)\n",
    "    y = 2.0*random.gammavariate(0.5*df, 2.0)\n",
    "    return x / (math.sqrt(y/df))\n",
    "```"
   ]
  },
  {
   "cell_type": "code",
   "execution_count": null,
   "metadata": {},
   "outputs": [],
   "source": [
    "def rt(df): # df grados de libertad\n",
    "    x = gauss(0.0, 1.0)\n",
    "    y = 2.0 * gammavariate(0.5*df, 2.0)\n",
    "    return x / sqrt(y/df)\n",
    "\n",
    "df = 11"
   ]
  },
  {
   "cell_type": "code",
   "execution_count": null,
   "metadata": {},
   "outputs": [],
   "source": [
    "# Tamaños muestrales\n",
    "tams = [10, 20, 100, 1000]\n",
    "for n in tams:\n",
    "    print(f'Con una muestra de tamaño {n}:')\n",
    "    X = [rt(df) for _ in range(n)]\n",
    "\n",
    "    # 1) Ordenamos los datos de menor a mayor\n",
    "    X.sort()\n",
    "\n",
    "    # 2) Calculamos el estadístico\n",
    "    d = D(n, X, lambda x: erf(x/sqrt(2.))/2. + 0.5)\n",
    "    print(f'\\tValor observado del estadístico: {d}')\n",
    "\n",
    "    # 3) Aproximamos el p-valor con simulaciones usando teorema: P_F(D >= d) no depende de F\n",
    "    p_valor_sim = aprox_p_valor_con_uniformes(1000, n, d)\n",
    "    print(f'\\tp-valor con {nSim} simulaciones: {p_valor_sim}')"
   ]
  },
  {
   "attachments": {},
   "cell_type": "markdown",
   "metadata": {},
   "source": [
    "## Ejercicio 9\n",
    "En un estudio de vibraciones, una muestra aleatoria de 15 componentes del avión fueron sometidos a fuertes vibraciones hasta que se evidenciaron fallas estructurales. Los datos proporcionados son los minutos transcurridos hasta que se evidenciaron dichas fallas.\n",
    "\n",
    "&emsp; 1.6 10.3 3.5 13.5 18.4 7.7 24.3 10.7 8.4 4.9 7.9 12 16.2 6.8 14.7\n",
    "\n",
    "Pruebe la hipótesis nula de que estas observaciones pueden ser consideradas como una muestra de la\n",
    "distribución exponencial."
   ]
  },
  {
   "cell_type": "code",
   "execution_count": null,
   "metadata": {},
   "outputs": [],
   "source": [
    "# Muestra\n",
    "X = [1.6, 10.3, 3.5, 13.5, 18.4, 7.7, 24.3, 10.7, 8.4, 4.9, 7.9, 12, 16.2, 6.8, 14.7]\n",
    "\n",
    "# Tamaño muestral\n",
    "n = len(X)\n",
    "\n",
    "# 1) Ordenamos los datos de menor a mayor\n",
    "X.sort()\n",
    "\n",
    "# 2) Estimamos los parámetros desconocidos (en este caso lambda)\n",
    "# Sabemos que si X ~ Exp(lambda), entonces E[X] = 1 / lambda. Por lo tanto lambda = 1 / E[X]\n",
    "# Entonces, para estimar lambda, estimamos E[X] con la media muestral y hago 1 / MediaMuestral\n",
    "media_muestral = sum(X) / n\n",
    "_lamda = 1 / media_muestral\n",
    "\n",
    "# 3) Calculamos el estadístico\n",
    "d = D(n, X, lambda x: expon.cdf(x, scale=1/_lamda))\n",
    "print(f'Valor observado del estadístico: {d}')\n",
    "\n",
    "# 4) Estimamos el p-valor con simulaciones\n",
    "# NOTA: como los parámetros son desconocidos, no podemos usar muestras de uniformes\n",
    "# en la simulación\n",
    "nSim = 1000\n",
    "p_valor = 0\n",
    "for _ in range(nSim):\n",
    "    X = expon.rvs(scale=1/_lamda, size=n)\n",
    "    X.sort()\n",
    "\n",
    "    # Se vuelven a estimar los parámetros\n",
    "    media_muestral = sum(X) / n\n",
    "    _lamda_sim = 1 / media_muestral\n",
    "\n",
    "    # Calculamos el estadístico con los nuevos parámetros\n",
    "    d_sim = D(n, X, lambda x: expon.cdf(x, scale=1/_lamda_sim))\n",
    "    if d_sim >= d:\n",
    "        p_valor += 1\n",
    "print(f'p-valor con {nSim} simulaciones: {p_valor/nSim}\\n')"
   ]
  },
  {
   "attachments": {},
   "cell_type": "markdown",
   "metadata": {},
   "source": [
    "## Ejercicio 10\n",
    "Decidir si los siguientes datos corresponden a una distribución Normal:\n",
    "\n",
    "&emsp; 91.9 97.8 111.4 122.3 105.4 95.0 103.8 99.6 96.6 119.3 104.8 101.7\n",
    "\n",
    "Calcular una aproximación del p−valor."
   ]
  },
  {
   "cell_type": "code",
   "execution_count": null,
   "metadata": {},
   "outputs": [],
   "source": [
    "# Muestra\n",
    "X = [91.9, 97.8, 111.4, 122.3, 105.4, 95.0, 103.8, 99.6, 96.6, 119.3, 104.8, 101.7]\n",
    "\n",
    "# Tamaño muestral\n",
    "n = len(X)\n",
    "\n",
    "# 1) Ordenamos los datos de menor a mayor\n",
    "X.sort()\n",
    "\n",
    "# 2) Estimamos los parámetros desconocidos (en este caso lambda)\n",
    "# Sabemos que si X ~ N(mu,sigma), entonces E[X] = mu y VAR[X] = sigma^2.\n",
    "# Entonces, para estimar mu y sigma, usamos la media muestral y la varianza muestral.\n",
    "media_muestral = sum(X) / n\n",
    "_mu = media_muestral\n",
    "\n",
    "Scuad = 0\n",
    "for i in range(n):\n",
    "    Scuad += (X[i] - _mu)**2\n",
    "Scuad /= (n-1)\n",
    "_sigma = sqrt(Scuad)\n",
    "\n",
    "# 3) Calculamos el estadístico\n",
    "d = D(n, X, lambda x: norm.cdf(x, loc=_mu, scale=_sigma))\n",
    "print(f'Valor observado del estadístico: {d}')\n",
    "\n",
    "# 4) Estimamos el p-valor con simulaciones\n",
    "# NOTA: como los parámetros son desconocidos, no podemos usar muestras de uniformes\n",
    "# en la simulación\n",
    "nSim = 1000\n",
    "p_valor = 0\n",
    "for _ in range(nSim):\n",
    "    X = norm.rvs(loc=_mu, scale=_sigma, size=n)\n",
    "    X.sort()\n",
    "\n",
    "    # Se vuelven a estimar los parámetros\n",
    "    media_muestral = sum(X) / n\n",
    "    _mu_sim = media_muestral\n",
    "\n",
    "    Scuad = 0\n",
    "    for i in range(n):\n",
    "        Scuad += (X[i] - _mu)**2\n",
    "    Scuad /= (n-1)\n",
    "    _sigma_sim = sqrt(Scuad)\n",
    "\n",
    "    # Calculamos el estadístico con los nuevos parámetros\n",
    "    d_sim = D(n, X, lambda x: norm.cdf(x, loc=_mu_sim, scale=_sigma_sim))\n",
    "    if d_sim >= d:\n",
    "        p_valor += 1\n",
    "print(f'p-valor con {nSim} simulaciones: {p_valor/nSim}\\n')"
   ]
  }
 ],
 "metadata": {
  "kernelspec": {
   "display_name": "Python 3",
   "language": "python",
   "name": "python3"
  },
  "language_info": {
   "codemirror_mode": {
    "name": "ipython",
    "version": 3
   },
   "file_extension": ".py",
   "mimetype": "text/x-python",
   "name": "python",
   "nbconvert_exporter": "python",
   "pygments_lexer": "ipython3",
   "version": "3.10.6"
  },
  "orig_nbformat": 4
 },
 "nbformat": 4,
 "nbformat_minor": 2
}
