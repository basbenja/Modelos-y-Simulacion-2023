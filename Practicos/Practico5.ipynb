{
 "cells": [
  {
   "cell_type": "code",
   "execution_count": null,
   "metadata": {},
   "outputs": [],
   "source": [
    "from math import exp, log, e, sqrt, pi, sin, cos, tan\n",
    "from random import random, uniform\n",
    "from statistics import variance\n",
    "from time import time"
   ]
  },
  {
   "cell_type": "code",
   "execution_count": null,
   "metadata": {},
   "outputs": [],
   "source": [
    "def valorEsperado(method: str, nSim: int, func, *args):\n",
    "    res = 0\n",
    "    for _ in range(nSim):\n",
    "        res += func(*args)\n",
    "    print(f'Con {method} en {nSim} simulaciones:')\n",
    "    print(f'Valor estimado de E[X]: {res/nSim}\\n') \n",
    "\n",
    "def valorEsperadoYVarianza(method: str, nSim: int, func, *args):\n",
    "    res = []\n",
    "    for _ in range(nSim):\n",
    "        res.append(func(*args))\n",
    "    print(f'Con {method} en {nSim} simulaciones:')\n",
    "    print(f'Valor estimado de E[X]: {sum(res)/nSim}')\n",
    "    print(f'Valor estimado de Var[X]: {variance(res)}\\n') \n",
    "\n",
    "def valorEsperadoYTiempo(method: str, nSim: int, func, *args):\n",
    "    start_time = time()\n",
    "    valorEsperado(method, nSim, func, *args)\n",
    "    print(f'Tiempo de ejecución:    --- {time() - start_time} seconds ---\\n')\n",
    "\n",
    "def Exponencial(lamda):\n",
    "    U = random()\n",
    "    return -log(U)/lamda"
   ]
  },
  {
   "attachments": {},
   "cell_type": "markdown",
   "metadata": {},
   "source": [
    "## Ejercicio 3\n",
    "**a)** Desarrolle métodos para generar las siguientes variables aletorias:  \n",
    "&nbsp;&nbsp;&nbsp;&nbsp;**i.** Distribución Pareto  \n",
    "&nbsp;&nbsp;&nbsp;&nbsp;**ii.** Distribución Erlang  \n",
    "&nbsp;&nbsp;&nbsp;&nbsp;**iii.** Distribución Weibull\n",
    "\n",
    "**b)** Estime la media de cada variable con 10000 repeticiones, usando los parámetros a = 2, mu = 2, k = 2, lambda = 1, beta = 2. Busque en la web los valores de las esperanzas para cada variable con estos parámetros y compare los valores obtenidos"
   ]
  },
  {
   "cell_type": "code",
   "execution_count": null,
   "metadata": {},
   "outputs": [],
   "source": [
    "# Distribución Pareto\n",
    "def Pareto(a):\n",
    "    U = random()\n",
    "    return(1/U)**(1/a)\n",
    "\n",
    "# Distribución Erlang\n",
    "def Erlang(k, mu):\n",
    "    U = 1\n",
    "    for _ in range(k):\n",
    "        U *= 1 - random()\n",
    "    return -log(U)/(1/mu)\n",
    "\n",
    "# Distribución Weibull\n",
    "def Weibull(beta, lamda):\n",
    "    U = random()\n",
    "    return lamda * (log(1/U)**(1/beta))"
   ]
  },
  {
   "cell_type": "code",
   "execution_count": null,
   "metadata": {},
   "outputs": [],
   "source": [
    "nSim = 10000\n",
    "# para Pareto\n",
    "a = 2\n",
    "# para Erlang\n",
    "k = 2\n",
    "mu = 2\n",
    "# para Weibull\n",
    "beta = 2\n",
    "lamda = 1\n",
    "\n",
    "resPareto = 0\n",
    "resErlang = 0\n",
    "resWeibull = 0\n",
    "\n",
    "for i in range(nSim):\n",
    "    resPareto += Pareto(a)\n",
    "    resErlang += Erlang(k, mu)\n",
    "    resWeibull += Weibull(beta, lamda)\n",
    "print(f'E[X ~ Pareto(a={a})] = {resPareto/nSim:.10},  Esperanza exacta = {a/(a-1)}')\n",
    "print(f'E[X ~ Erlang(k={k}, mu={mu})] = {resErlang/nSim:.10}, Esperanza exacta = {k / (1/mu)}')\n",
    "print(f'E[X ~ Weibull(lamda={lamda}, beta={beta})] = {resWeibull/nSim}')"
   ]
  },
  {
   "attachments": {},
   "cell_type": "markdown",
   "metadata": {},
   "source": [
    "## Ejercicio 3: Método de la composición\n",
    "**b)** Genere datos usando tres exponenciales independientes con media 3, 5 y 7 respectivamente y p = (0.5, 0.3, 0.2). Calcule la esperanza de la mezcla y estime con 10000 repeticiones."
   ]
  },
  {
   "cell_type": "code",
   "execution_count": null,
   "metadata": {},
   "outputs": [],
   "source": [
    "m = [3, 5, 7]\n",
    "p = [0.5, 0.3, 0.2]\n",
    "\n",
    "def Ejercicio3():\n",
    "    U = random()\n",
    "    if U < 0.5:\n",
    "        return Exponencial(1/3)\n",
    "    elif U < 0.8:\n",
    "        return Exponencial(1/5)\n",
    "    else:\n",
    "        return Exponencial(1/7)"
   ]
  },
  {
   "cell_type": "code",
   "execution_count": null,
   "metadata": {},
   "outputs": [],
   "source": [
    "nSim = 10000\n",
    "res = 0\n",
    "for _ in range(nSim):\n",
    "    res += Ejercicio3()\n",
    "print(f'Esperanza de la mezcla: {res/nSim}')\n",
    "print(f'Esperanza exacta: {sum([m[i]*p[i] for i in range(len(p))])}')"
   ]
  },
  {
   "attachments": {},
   "cell_type": "markdown",
   "metadata": {},
   "source": [
    "## Ejercicio 5\n",
    "**b)** Genere una muestra de 10 valores de las variables M = max{X1,...,Xn} y m = min{X1,...,Xn} con distribuciones FM y Fm si Xi son exponenciales independientes con parámetros 1, 2 y 3 respectivamente"
   ]
  },
  {
   "cell_type": "code",
   "execution_count": null,
   "metadata": {},
   "outputs": [],
   "source": [
    "nSim = 10\n",
    "print(f\"{'M':^25}{'m':^25}\")\n",
    "for _ in range(nSim):\n",
    "    X1 = Exponencial(1)\n",
    "    X2 = Exponencial(2)\n",
    "    X3 = Exponencial(3)\n",
    "    M = max([X1, X2, X3])\n",
    "    m = min([X1, X2, X3])\n",
    "    print(f\"{M:^25}{m:^25}\")"
   ]
  },
  {
   "attachments": {},
   "cell_type": "markdown",
   "metadata": {},
   "source": [
    "## Ejercicio 6\n",
    "Utilice el método del rechazo y los resultados del ejercicio anterior para desarrollar otros dos\n",
    "métodos, además del método de la transformada inversa, para generar una variable aleatoria con distribución de probabilidad\n",
    "$$\n",
    "\\begin{equation*}\n",
    "    F(x) = x^n \\quad 0\\leq x\\leq 1\\\\\n",
    "\\end{equation*}\n",
    "$$\n",
    "Analice la eficiencia de los tres métodos para generar la variable a partir de F."
   ]
  },
  {
   "cell_type": "code",
   "execution_count": null,
   "metadata": {},
   "outputs": [],
   "source": [
    "# Transformada Inversa\n",
    "def ejercicio6TI(n):\n",
    "    U = random()\n",
    "    return U**(1/n)\n",
    "\n",
    "# Aceptación y rechazo\n",
    "def ejercicio6AR(n):\n",
    "    while True:\n",
    "        Y = random()\n",
    "        U = random()\n",
    "        if U < Y**(n-1):\n",
    "            return Y\n",
    "\n",
    "# Usando Ejercicio 5\n",
    "def ejercicio6M(n):\n",
    "    M = 0\n",
    "    for _ in range(n):\n",
    "        U = random()\n",
    "        M = max(M, U)\n",
    "    return M\n",
    "\n",
    "nSim = 10000\n",
    "n = 10\n",
    "valorEsperadoYTiempo('Transformada Inversa', nSim, ejercicio6TI, n)\n",
    "valorEsperadoYTiempo('Aceptación y Rechazo', nSim, ejercicio6AR, n)\n",
    "valorEsperadoYTiempo('los resultados del Ejercicio 5', nSim, ejercicio6M, n)"
   ]
  },
  {
   "attachments": {},
   "cell_type": "markdown",
   "metadata": {},
   "source": [
    "## Ejercicio 7\n",
    "**a)** Desarrolle dos métodos para generar una variable aleatoria X con densidad de probabilidad:\n",
    "$$\n",
    "f(x)=\n",
    "    \\begin{cases}\n",
    "        1/x & \\text{si } 1\\leq x\\leq e\\\\\n",
    "        0 & \\text{en otro caso}\n",
    "    \\end{cases}\n",
    "$$\n",
    "\n",
    "**i)** Aplicando Transformada Inversa.  \n",
    "**ii)** Aplicando el método de Aceptación y Rechazo con una variable uniforme."
   ]
  },
  {
   "cell_type": "code",
   "execution_count": null,
   "metadata": {},
   "outputs": [],
   "source": [
    "def ejercicio7TI():\n",
    "    return exp(random())\n",
    "\n",
    "def ejercicio7AR():\n",
    "    while True:\n",
    "        Y = uniform(1,e)\n",
    "        U = random()\n",
    "        if U < 1/Y:\n",
    "            return Y"
   ]
  },
  {
   "attachments": {},
   "cell_type": "markdown",
   "metadata": {},
   "source": [
    "**b)** Compare la eficiencia de ambos métodos realizando 10000 simulaciones y comparando el promedio de los valores obtenidos. Compruebe que se obtiene un valor aproximado del valor esperado de X."
   ]
  },
  {
   "cell_type": "code",
   "execution_count": null,
   "metadata": {},
   "outputs": [],
   "source": [
    "nSim = 10000\n",
    "\n",
    "valorEsperadoYTiempo('Transformada Inversa', nSim, ejercicio7TI)\n",
    "valorEsperadoYTiempo('Aceptación y Rechazo', nSim, ejercicio7AR)\n",
    "\n",
    "print(f'Valor exacto de E[X]: {e-1}')"
   ]
  },
  {
   "attachments": {},
   "cell_type": "markdown",
   "metadata": {},
   "source": [
    "**c)** Estime la probabilidad P(X <= 2) y compáreal con el valor real."
   ]
  },
  {
   "cell_type": "code",
   "execution_count": null,
   "metadata": {},
   "outputs": [],
   "source": [
    "nSim = 10000\n",
    "\n",
    "res = 0\n",
    "for _ in range(nSim):\n",
    "    X = ejercicio7TI()\n",
    "    if X <= 2:\n",
    "        res += 1\n",
    "print(f'Con Transformada Inversa en {nSim} simulaciones:')\n",
    "print(f'Valor estimado de P(X <= 2): {res/nSim}\\n')\n",
    "\n",
    "print(f'Valor exacto de P(X <= 2): {log(2)}')"
   ]
  },
  {
   "attachments": {},
   "cell_type": "markdown",
   "metadata": {},
   "source": [
    "## Ejercicio 8\n",
    "**a)** Sean U y V dos variables aleatorias uniformes en (0,1) e independientes. Pruebe que la variable X = U + V tiene una densidad triangular:\n",
    "$$\n",
    "f(x)=\n",
    "    \\begin{cases}\n",
    "        x & \\text{si } 0\\leq x < 1\\\\\n",
    "        2-x & \\text{si } 1\\leq x < 2\\\\\n",
    "        0 & \\text{en otro caso}\n",
    "    \\end{cases}\n",
    "$$\n",
    "\n",
    "**b)** Desarrolle tres algoritmos que simulen la variable X:  \n",
    "**i)** Usando la propiedad que X es suma de dos uniformes.  \n",
    "**ii)** Aplicando transformada inversa.  \n",
    "**iii)** Con el método de rechazo.  \n"
   ]
  },
  {
   "cell_type": "code",
   "execution_count": null,
   "metadata": {},
   "outputs": [],
   "source": [
    "def ejercicio8bi():\n",
    "    U = random()\n",
    "    V = random()\n",
    "    return U + V\n",
    "\n",
    "def ejercicio8TI():\n",
    "    U = random()\n",
    "    if U < 0.5:\n",
    "        return sqrt(2*U)\n",
    "    else:\n",
    "        return 2 - sqrt(2 - 2*U)\n",
    "\n",
    "def ejercicio8AR():\n",
    "    while True:\n",
    "        Y = uniform(0,2)\n",
    "        U = random()\n",
    "        if (Y < 1 and U < Y) or (Y > 1 and Y < 2 and U < 2 - Y):\n",
    "            return Y"
   ]
  },
  {
   "attachments": {},
   "cell_type": "markdown",
   "metadata": {},
   "source": [
    "**c)** Compare la eficiencia de los tres algoritmos. Para cada caso, estimar el valor esperado promediando 10.000 valores simulados, ¿Para qué valor x0 se cumple que P(X > x0) = 0.125?"
   ]
  },
  {
   "cell_type": "code",
   "execution_count": null,
   "metadata": {},
   "outputs": [],
   "source": [
    "nSim = 10000\n",
    "\n",
    "valorEsperadoYTiempo('suma de dos uniformes en (0,1)', nSim, ejercicio8bi)\n",
    "valorEsperadoYTiempo('Transformada Inversa', nSim, ejercicio8TI)\n",
    "valorEsperadoYTiempo('Aceptación y Rechazo', nSim, ejercicio8AR)\n",
    "\n",
    "print(f'Valor exacto de E[X]: 1')"
   ]
  },
  {
   "attachments": {},
   "cell_type": "markdown",
   "metadata": {},
   "source": [
    "**d)** Compare la proporción de veces que el algoritmo devuelve un número mayor que x0 con P(X > x0) = 0.125."
   ]
  },
  {
   "cell_type": "code",
   "execution_count": null,
   "metadata": {},
   "outputs": [],
   "source": [
    "# El número tal que P(X > x0) = 0.125 es 1.5\n",
    "nSim = 100000\n",
    "\n",
    "res = 0\n",
    "for _ in range(nSim):\n",
    "    X = ejercicio8TI()\n",
    "    if X > 1.5:\n",
    "        res += 1\n",
    "print(f'Estimación de P(X > 1.5): {res/nSim}')\n",
    "print('Valor exacto de P(X > 1.5): 0.125')"
   ]
  },
  {
   "attachments": {},
   "cell_type": "markdown",
   "metadata": {},
   "source": [
    "## Ejercicio 9\n",
    "Escriba tres programas para generar un variable aleatoria normal patrón, usando:"
   ]
  },
  {
   "attachments": {},
   "cell_type": "markdown",
   "metadata": {},
   "source": [
    "**a)** generación de variables exponenciales según el ejemplo 5 f del libro Simulacion de S. M. Ross"
   ]
  },
  {
   "cell_type": "code",
   "execution_count": null,
   "metadata": {},
   "outputs": [],
   "source": [
    "def NormalConExponenciales(mu, sigma):\n",
    "    while True:\n",
    "        Y1 = Exponencial(1)\n",
    "        Y2 = Exponencial(1)\n",
    "        if Y2 > (Y1-1)**2 / 2:\n",
    "            U = random()\n",
    "            if U <= 0.5:\n",
    "                return Y1 * sigma + mu\n",
    "            else:\n",
    "                return -Y1 * sigma + mu"
   ]
  },
  {
   "attachments": {},
   "cell_type": "markdown",
   "metadata": {},
   "source": [
    "**b)** el método polar"
   ]
  },
  {
   "cell_type": "code",
   "execution_count": null,
   "metadata": {},
   "outputs": [],
   "source": [
    "def MetodoPolar(mu, sigma):\n",
    "    Rcuadrado = -2 * log(1 - random())      # Rcuadrado ~ Exp(1/2)\n",
    "    Theta = 2 * pi * random()               # Theta ~ U(0, 2pi)\n",
    "    # Transformaciones de Box-Muller\n",
    "    X = sqrt(Rcuadrado) * cos(Theta)\n",
    "    Y = sqrt(Rcuadrado) * sin(Theta)\n",
    "    return (X * sigma + mu, Y * sigma + mu)"
   ]
  },
  {
   "attachments": {},
   "cell_type": "markdown",
   "metadata": {},
   "source": [
    "**c)** el método de razón entre uniformes"
   ]
  },
  {
   "cell_type": "code",
   "execution_count": null,
   "metadata": {},
   "outputs": [],
   "source": [
    "# Implementación en Python del método de razón de uniformes para la función\n",
    "# random.normalvariate(mu, sigma)\n",
    "NV_MAGICCONST = 4 * exp(-0.5) / sqrt(2.0)\n",
    "def normalvariate(mu, sigma):\n",
    "    while 1:\n",
    "        u1 = random()\n",
    "        u2 = 1.0 - random()\n",
    "        z = NV_MAGICCONST * (u1 - 0.5) / u2\n",
    "        zz = z * z / 4.0\n",
    "        if zz <= -log(u2):\n",
    "            break\n",
    "    return mu + z * sigma"
   ]
  },
  {
   "attachments": {},
   "cell_type": "markdown",
   "metadata": {},
   "source": [
    "Pruebe los códigos calculando la media muestral y varianza muestral de 10000 valores generados con los tres métodos."
   ]
  },
  {
   "cell_type": "code",
   "execution_count": null,
   "metadata": {},
   "outputs": [],
   "source": [
    "nSim = 10000\n",
    "valorEsperadoYVarianza('exponenciales', nSim, NormalConExponenciales, 0, 1)\n",
    "valorEsperadoYVarianza('razón de uniformes', nSim, normalvariate, 0, 1)\n",
    "\n",
    "# Al metodo polar lo hago por separado porque devuelve tuplas\n",
    "res_polar = []\n",
    "for _ in range(nSim):\n",
    "    res_polar.extend(MetodoPolar(0, 1))\n",
    "\n",
    "print(f'Con el método polar en {nSim} simulaciones:')\n",
    "print(f'Valor estimado de E[X]: {sum(res_polar)/nSim*2}')\n",
    "print(f'Valor estimado de Var[X]: {variance(res_polar)}') \n",
    "    "
   ]
  },
  {
   "attachments": {},
   "cell_type": "markdown",
   "metadata": {},
   "source": [
    "## Ejercicio 11\n",
    "Una variable aleatoria X tiene distribución de Cauchy con parámetro $\\lambda$ > 0 si su densidad es:\n",
    "$$\n",
    "\\begin{equation*}\n",
    "    f(x) = \\frac {1}{\\lambda \\pi (1 + (x/ \\lambda)^2)}, \\ x \\in \\mathbb{R}\n",
    "\\end{equation*}\n",
    "$$"
   ]
  },
  {
   "attachments": {},
   "cell_type": "markdown",
   "metadata": {},
   "source": [
    "**a)** Implemente el método de razón entre uniformes para simular X con parámetro $\\lambda$ = 1."
   ]
  },
  {
   "cell_type": "code",
   "execution_count": null,
   "metadata": {},
   "outputs": [],
   "source": [
    "def Cauchy1():\n",
    "    while True:\n",
    "        U = random() / 3\n",
    "        V = random() * 2/3 - 1/3\n",
    "        if 1 < 1 / (pi * (U**2 + V**2)):\n",
    "            return V/U"
   ]
  },
  {
   "attachments": {},
   "cell_type": "markdown",
   "metadata": {},
   "source": [
    "**b)** Pruebe que si X tiene distribución de Cauchy con parámetro 1, entonces $\\lambda X$ tiene distribución de Cauchy con parámetro $\\lambda$"
   ]
  },
  {
   "attachments": {},
   "cell_type": "markdown",
   "metadata": {},
   "source": [
    "**c)** Utilice la propiedad anterior para modificar el algoritmo de a), e implementar Cauchy(lamda) que simule una variable X con distribución de Cauchy con parámetro $\\lambda$"
   ]
  },
  {
   "cell_type": "code",
   "execution_count": null,
   "metadata": {},
   "outputs": [],
   "source": [
    "def Cauchy(lamda):\n",
    "    return lamda * Cauchy1()"
   ]
  },
  {
   "attachments": {},
   "cell_type": "markdown",
   "metadata": {},
   "source": [
    "**d)** Realice 10.000 simulaciones y calcule la proporción de veces que el resultado cae en el intervalo\n",
    "(−$\\lambda$, $\\lambda$), para:  \n",
    "$\\lambda$ = 1,  \n",
    "$\\lambda$ = 2.5, y  \n",
    "$\\lambda$ = 0.3.  \n",
    "Compare con la probabilidad teórica."
   ]
  },
  {
   "cell_type": "code",
   "execution_count": null,
   "metadata": {},
   "outputs": [],
   "source": [
    "def proporcionEj11(nSim, lamda):\n",
    "    res = 0\n",
    "    for _ in range(nSim):\n",
    "        X = Cauchy(lamda)\n",
    "        if X > -lamda and X < lamda:\n",
    "            res += 1\n",
    "    print(f'Con lambda = {lamda}')\n",
    "    print(f'P(-{lamda} < X < {lamda}) = {res/nSim}\\n')\n",
    "\n",
    "nSim = 10000\n",
    "proporcionEj11(nSim, 1)\n",
    "proporcionEj11(nSim, 2.5)\n",
    "proporcionEj11(nSim, 0.3)"
   ]
  },
  {
   "attachments": {},
   "cell_type": "markdown",
   "metadata": {},
   "source": [
    "## Ejercicio 12\n",
    "Sea X una variable aleatoria con distribución de Cauchy de parámetro $\\lambda$."
   ]
  },
  {
   "attachments": {},
   "cell_type": "markdown",
   "metadata": {},
   "source": [
    "**a)** Calcule la función de distribución acumulada F."
   ]
  },
  {
   "attachments": {},
   "cell_type": "markdown",
   "metadata": {},
   "source": [
    "$$\n",
    "\\begin{equation*}\n",
    "    F(x) = \\frac {1}{\\pi} (\\arctan(\\frac{x}{\\lambda}) + \\frac{\\pi}{2}), \\ x \\in \\mathbb{R}\n",
    "\\end{equation*}\n",
    "$$"
   ]
  },
  {
   "attachments": {},
   "cell_type": "markdown",
   "metadata": {},
   "source": [
    "**b)** Simule X aplicando el método de transformada inversa"
   ]
  },
  {
   "cell_type": "code",
   "execution_count": null,
   "metadata": {},
   "outputs": [],
   "source": [
    "def CauchyTI(lamda):\n",
    "    U = random()\n",
    "    return lamda * tan(pi * (U - 0.5))"
   ]
  },
  {
   "attachments": {},
   "cell_type": "markdown",
   "metadata": {},
   "source": [
    "**c)** Indique si es posible generar X por el método de aceptación y rechazo, rechazando con una variable\n",
    "aleatoria normal."
   ]
  },
  {
   "attachments": {},
   "cell_type": "markdown",
   "metadata": {},
   "source": [
    "**d)** Realice 10.000 simulaciones y calcule la proporción de veces que el resultado cae en el intervalo\n",
    "(−$\\lambda$, $\\lambda$), para:  \n",
    "$\\lambda$ = 1,  \n",
    "$\\lambda$ = 2.5, y  \n",
    "$\\lambda$ = 0.3.  \n",
    "Compare con la probabilidad teórica."
   ]
  },
  {
   "cell_type": "code",
   "execution_count": null,
   "metadata": {},
   "outputs": [],
   "source": [
    "def proporcionEj12(nSim, lamda):\n",
    "    res = 0\n",
    "    for _ in range(nSim):\n",
    "        X = CauchyTI(lamda)\n",
    "        if X > -lamda and X < lamda:\n",
    "            res += 1\n",
    "    print(f'Con lambda = {lamda}')\n",
    "    print(f'P(-{lamda} < X < {lamda}) = {res/nSim}\\n')\n",
    "\n",
    "nSim = 10000\n",
    "proporcionEj12(nSim, 1)\n",
    "proporcionEj12(nSim, 2.5)\n",
    "proporcionEj12(nSim, 0.3)"
   ]
  },
  {
   "attachments": {},
   "cell_type": "markdown",
   "metadata": {},
   "source": [
    "**e)** Compare la eficiencia de este algoritmo con el método de razón entre uniformes."
   ]
  },
  {
   "cell_type": "code",
   "execution_count": null,
   "metadata": {},
   "outputs": [],
   "source": [
    "nSim = 10000\n",
    "lamda = 2.3\n",
    "\n",
    "start_time = time()\n",
    "print(f'Con razón entre uniformes')\n",
    "proporcionEj11(nSim, lamda)\n",
    "print(f'Tiempo de ejecución:    --- {time() - start_time} seconds ---\\n')\n",
    "\n",
    "start_time = time()\n",
    "print(f'Con transformada inversa')\n",
    "res = proporcionEj12(nSim, lamda)\n",
    "print(f'Tiempo de ejecución:    --- {time() - start_time} seconds ---\\n')"
   ]
  },
  {
   "attachments": {},
   "cell_type": "markdown",
   "metadata": {},
   "source": [
    "## Ejercicio 13\n",
    "Escriba un programa que calcule el número de eventos y sus tiempos de arribo en las primeras\n",
    "T unidades de tiempo de un proceso de Poisson homogéneo con parámetro $\\lambda$."
   ]
  },
  {
   "cell_type": "code",
   "execution_count": null,
   "metadata": {},
   "outputs": [],
   "source": [
    "\"\"\"\n",
    "Los tiempos de llegada entre eventos sucesivos de un proceso de Poisson homogéneo\n",
    "con razón lambda son exponenciales con parámetro lambda.\n",
    "\"\"\"\n",
    "def PoissonHomogeneo(lamda, T):\n",
    "    eventos = []\n",
    "    t = Exponencial(lamda)\n",
    "    while t <= T:\n",
    "        eventos.append(t)\n",
    "        t += Exponencial(lamda)\n",
    "    return eventos, len(eventos)"
   ]
  },
  {
   "attachments": {},
   "cell_type": "markdown",
   "metadata": {},
   "source": [
    "## Ejercicio 14\n",
    "Los autobuses que llevan los aficionados a un encuentro deportivo llegan a destino de acuerdo\n",
    "con un proceso de Poisson a razón de cinco por hora. La capacidad de los autobuses es una variable\n",
    "aleatoria que toma valores en el conjunto: {20,21,...,40} con igual probabilidad. A su vez, las capacidades\n",
    "de dos autobuses distintos son variables independientes. Escriba un algoritmo para simular la llegada de\n",
    "aficionados al encuentro en el instante t = 1 hora"
   ]
  },
  {
   "cell_type": "code",
   "execution_count": null,
   "metadata": {},
   "outputs": [],
   "source": [
    "def Udiscreta(a,b):\n",
    "    U = random()\n",
    "    return int(U * (b-a+1)) + a\n",
    "\n",
    "def ejercicio14(lamda, T):\n",
    "    llegadas = []\n",
    "    t = Exponencial(lamda)\n",
    "    while t < T:\n",
    "        capacidad = Udiscreta(20, 40)\n",
    "        llegadas.append((round(t*60, 2), capacidad))\n",
    "        t += Exponencial(lamda)\n",
    "    return llegadas\n",
    "\n",
    "ejercicio14(5, 1)"
   ]
  },
  {
   "attachments": {},
   "cell_type": "markdown",
   "metadata": {},
   "source": [
    "## Ejercicio 15"
   ]
  },
  {
   "attachments": {},
   "cell_type": "markdown",
   "metadata": {},
   "source": [
    "**a)** Escriba un programa que utilice el algoritmo del adelgazamiento para generar el numero de eventos y\n",
    "las primeras unidades de tiempo de un proceso de Poisson no homogéneo con función de intensidad en los intervalos indicados."
   ]
  },
  {
   "cell_type": "code",
   "execution_count": null,
   "metadata": {},
   "outputs": [],
   "source": [
    "def PoissonNoHomogeneoAdelgazamiento(lamda, lamda_t, T):\n",
    "    eventos = []\n",
    "    t = Exponencial(lamda)\n",
    "    while t <= T:\n",
    "        U = random()\n",
    "        if U < lamda_t(t) / lamda:\n",
    "            eventos.append(round(t,4))\n",
    "        t += Exponencial(lamda)\n",
    "    return eventos, len(eventos)"
   ]
  },
  {
   "attachments": {},
   "cell_type": "markdown",
   "metadata": {},
   "source": [
    "**i)**\n",
    "$$\n",
    "\\begin{equation*}\n",
    "    \\lambda(t) = 3 + \\frac{4}{t+1} \\quad 0\\leq t\\leq 3\\\\\n",
    "\\end{equation*}\n",
    "$$"
   ]
  },
  {
   "cell_type": "code",
   "execution_count": null,
   "metadata": {},
   "outputs": [],
   "source": [
    "\"\"\"\n",
    "En este caso, la función de intesidad es decreciente para todo t. Entonces:\n",
    "    lambda = lambda(0) = 7\n",
    "cumple que lambda(t) <= lambda para todo t en [0,3]\n",
    "\"\"\"\n",
    "lamda_t = lambda t: 3 + 4/(t+1)\n",
    "lamda = lamda_t(0)\n",
    "T = 3\n",
    "\n",
    "PoissonNoHomogeneoAdelgazamiento(lamda, lamda_t, T)"
   ]
  },
  {
   "attachments": {},
   "cell_type": "markdown",
   "metadata": {},
   "source": [
    "**ii)**\n",
    "$$\n",
    "\\begin{equation*}\n",
    "    \\lambda(t) = (t-2)^2 - 5t + 17 \\quad 0\\leq t\\leq 5\\\\\n",
    "\\end{equation*}\n",
    "$$"
   ]
  },
  {
   "cell_type": "code",
   "execution_count": null,
   "metadata": {},
   "outputs": [],
   "source": [
    "\"\"\"\n",
    "Veamos:\n",
    "    lambda(t) = (t-2)^2 - 5t + 17\n",
    "              = t^2 - 4t + 4 - 5t + 17\n",
    "              = t^2 - 9t + 21\n",
    "Entonces, en este caso, lambda(t) es una parábola con las ramas hacia arriba\n",
    "(pues a = 1) con eje de simetría en t = 4.5.\n",
    "Por lo tanto, \"alcanza a crecer\" más para el lado del 0 que para el lado del 5.\n",
    "Luego:\n",
    "    lambda = lambda(0) = 21\n",
    "cumple que lambda(t) <= lambda para todo t en [0,5]\n",
    "\"\"\"\n",
    "lamda_t = lambda t: t**2 - 9*t + 21\n",
    "lamda = lamda_t(0)\n",
    "T = 5\n",
    "\n",
    "PoissonNoHomogeneoAdelgazamiento(lamda, lamda_t, T)"
   ]
  },
  {
   "attachments": {},
   "cell_type": "markdown",
   "metadata": {},
   "source": [
    "**iii)**\n",
    "$$\n",
    "\\lambda(t)=\n",
    "    \\begin{cases}\n",
    "        \\frac{t}{2}-1 & \\text{si } 2\\leq t\\leq 3\\\\\n",
    "        1-\\frac{t}{6} & \\text{si } 3\\leq t\\leq 6\\\\\n",
    "        0 & \\text{en otro caso}\n",
    "    \\end{cases}\n",
    "$$"
   ]
  },
  {
   "cell_type": "code",
   "execution_count": null,
   "metadata": {},
   "outputs": [],
   "source": [
    "\"\"\"\n",
    "lambda(t) es creciente en [2,3]. Luego:\n",
    "    lambda = lambda(3) = 1/2 = 0.5\n",
    "cumple que lambda(t) <= lambda para todo t en [2,3]\n",
    "\n",
    "lambda(t) es decreciente en [3,6]. Luego:\n",
    "    lambda = lambda(3) = 1/2 = 0.5\n",
    "cumple que lambda(t) <= lambda para todo t en [3,6]\n",
    "\n",
    "Entonces:\n",
    "    lambda = lambda(3) = 1/2 = 0.5\n",
    "cumple que lambda(t) <= lambda para todo t\n",
    "\"\"\"\n",
    "def lamda_t(t):\n",
    "    if t >= 2 and t <= 3:\n",
    "        return t/2 - 1\n",
    "    elif t > 3 and t<= 6:\n",
    "        return 1 - t/6\n",
    "    return 0\n",
    "lamda = lamda_t(3)\n",
    "T = 6\n",
    "\n",
    "PoissonNoHomogeneoAdelgazamiento(lamda, lamda_t, T)"
   ]
  },
  {
   "attachments": {},
   "cell_type": "markdown",
   "metadata": {},
   "source": [
    "**b)** Indique una forma de mejorar el algoritmo de adelgazamiento para estos ejemplos usando al menos\n",
    "3 intervalos."
   ]
  },
  {
   "cell_type": "code",
   "execution_count": null,
   "metadata": {},
   "outputs": [],
   "source": [
    "def PoissonNoHomogeneoAdelgazamientoMejorado(lamdas, intervs, lamda_t, T):\n",
    "    j = 0       # Recorre subintervalos\n",
    "    t = Exponencial(lamdas[j])\n",
    "    eventos = []\n",
    "    while t <= T:\n",
    "        if t <= intervs[j]:\n",
    "            U = random()\n",
    "            if U < lamda_t(t) / lamdas[j]:\n",
    "                eventos.append(round(t,4))\n",
    "            t += Exponencial(lamdas[j])\n",
    "        else:\n",
    "            t = intervs[j] + (t - intervs[j]) * lamdas[j] / lamdas[j+1]\n",
    "            j += 1\n",
    "    return eventos, len(eventos)"
   ]
  },
  {
   "attachments": {},
   "cell_type": "markdown",
   "metadata": {},
   "source": [
    "**i)**\n",
    "$$\n",
    "\\begin{equation*}\n",
    "    \\lambda(t) = 3 + \\frac{4}{t+1} \\quad 0\\leq t\\leq 3\\\\\n",
    "\\end{equation*}\n",
    "$$"
   ]
  },
  {
   "cell_type": "code",
   "execution_count": null,
   "metadata": {},
   "outputs": [],
   "source": [
    "\"\"\"\n",
    "Tomo los intervalos [0,1), [1,2) y [2,3]:\n",
    "    Cota en [0,1): lambda(0) = 7\n",
    "    Cota en [1,2): lambda(1) = 5\n",
    "    Cota en [2,3]: lambda(2) = 3 + 4/3\n",
    "\"\"\"\n",
    "lamda_t = lambda t: 3 + 4/(t+1)\n",
    "lamdas = [7, 5, 3+4/3]\n",
    "intervs = [1, 2, 3]\n",
    "T = 3\n",
    "PoissonNoHomogeneoAdelgazamientoMejorado(lamdas, intervs, lamda_t, T)"
   ]
  },
  {
   "attachments": {},
   "cell_type": "markdown",
   "metadata": {},
   "source": [
    "**ii)**\n",
    "$$\n",
    "\\begin{equation*}\n",
    "    \\lambda(t) = (t-2)^2 - 5t + 17 \\quad 0\\leq t\\leq 5\\\\\n",
    "\\end{equation*}\n",
    "$$"
   ]
  },
  {
   "cell_type": "code",
   "execution_count": null,
   "metadata": {},
   "outputs": [],
   "source": [
    "\"\"\"\n",
    "Tomo los intervalos [0,1), [1,2), [2,3), [3,4.5), [4.5,5].\n",
    "La función es decreciente en [0,4.5) y creciente en (4.5,5]\n",
    "    Cota en [0,1): lambda(0) = 21\n",
    "    Cota en [1,2): lambda(1) = 13\n",
    "    Cota en [2,3): lambda(2) = 7\n",
    "    Cota en [3,4.5): lambda(3) = 3\n",
    "    Cota en [4.5,5): lambda(5) = 1\n",
    "\"\"\"\n",
    "lamda_t = lambda t: t**2 - 9*t + 21\n",
    "lamdas = [21, 13, 7, 3, 1]\n",
    "intervs = [1, 2, 3, 4.5, 5]\n",
    "T = 5\n",
    "PoissonNoHomogeneoAdelgazamientoMejorado(lamdas, intervs, lamda_t, T)"
   ]
  },
  {
   "attachments": {},
   "cell_type": "markdown",
   "metadata": {},
   "source": [
    "**iii)**\n",
    "$$\n",
    "\\lambda(t)=\n",
    "    \\begin{cases}\n",
    "        \\frac{t}{2}-1 & \\text{si } 2\\leq t\\leq 3\\\\\n",
    "        1-\\frac{t}{6} & \\text{si } 3\\leq t\\leq 6\\\\\n",
    "        0 & \\text{en otro caso}\n",
    "    \\end{cases}\n",
    "$$"
   ]
  },
  {
   "cell_type": "code",
   "execution_count": null,
   "metadata": {},
   "outputs": [],
   "source": [
    "\"\"\"\n",
    "Tomo los intervalos [0,2), [2,2.5), [2.5,3), [3,4.5), [4.5,6].\n",
    "La función es creciente en [2,3) y decreciente en (3,6]\n",
    "    Cota en [0,2): lamda(0) = 0\n",
    "    Cota en [2,2.5): lambda(2.5) = 0.25\n",
    "    Cota en [2.5,3): lambda(3) = 0.5\n",
    "    Cota en [3,4.5): lambda(3) = 0.5\n",
    "    Cota en [4.5,6): lambda(4.5) = 0.25\n",
    "\"\"\"\n",
    "def lamda_t(t):\n",
    "    if t >= 2 and t <= 3:\n",
    "        return t/2 - 1\n",
    "    elif t > 3 and t<= 6:\n",
    "        return 1 - t/6\n",
    "    return 0\n",
    "lamdas = [0.1, 0.25, 0.5, 0.5, 0.25]\n",
    "intervs = [2, 2.5, 3, 4.5, 6]\n",
    "T = 6\n",
    "PoissonNoHomogeneoAdelgazamientoMejorado(lamdas, intervs, lamda_t, T)"
   ]
  }
 ],
 "metadata": {
  "kernelspec": {
   "display_name": "Python 3",
   "language": "python",
   "name": "python3"
  },
  "language_info": {
   "codemirror_mode": {
    "name": "ipython",
    "version": 3
   },
   "file_extension": ".py",
   "mimetype": "text/x-python",
   "name": "python",
   "nbconvert_exporter": "python",
   "pygments_lexer": "ipython3",
   "version": "3.10.6"
  },
  "orig_nbformat": 4
 },
 "nbformat": 4,
 "nbformat_minor": 2
}
