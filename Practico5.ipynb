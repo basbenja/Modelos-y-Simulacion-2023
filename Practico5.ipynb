{
 "cells": [
  {
   "cell_type": "code",
   "execution_count": null,
   "metadata": {},
   "outputs": [],
   "source": [
    "from math import exp, log, e, sqrt\n",
    "from random import random, uniform\n",
    "from time import time"
   ]
  },
  {
   "cell_type": "code",
   "execution_count": null,
   "metadata": {},
   "outputs": [],
   "source": [
    "def valorEsperado(method: str, nSim: int, func):\n",
    "    start_time = time()\n",
    "    res = 0\n",
    "    for _ in range(nSim):\n",
    "        res += func()\n",
    "    print(f'Con {method} en {nSim} simulaciones:')\n",
    "    print(f'Valor estimado de E[X]: {res/nSim}')\n",
    "    print(f'Tiempo de ejecución:    --- {time() - start_time} seconds ---\\n')"
   ]
  },
  {
   "attachments": {},
   "cell_type": "markdown",
   "metadata": {},
   "source": [
    "## Ejercicio 3\n",
    "**a)** Desarrolle métodos para generar las siguientes variables aletorias:  \n",
    "&nbsp;&nbsp;&nbsp;&nbsp;**i.** Distribución Pareto  \n",
    "&nbsp;&nbsp;&nbsp;&nbsp;**ii.** Distribución Erlang  \n",
    "&nbsp;&nbsp;&nbsp;&nbsp;**iii.** Distribución Weibull\n",
    "\n",
    "**b)** Estime la media de cada variable con 10000 repeticiones, usando los parámetros a = 2, mu = 2, k = 2, lambda = 1, beta = 2. Busque en la web los valores de las esperanzas para cada variable con estos parámetros y compare los valores obtenidos"
   ]
  },
  {
   "attachments": {},
   "cell_type": "markdown",
   "metadata": {},
   "source": []
  },
  {
   "cell_type": "code",
   "execution_count": null,
   "metadata": {},
   "outputs": [],
   "source": [
    "# Distribución Pareto\n",
    "def Pareto(a):\n",
    "    U = random()\n",
    "    return(1/U)**(1/a)\n",
    "\n",
    "# Distribución Erlang\n",
    "def Erlang(k, mu):\n",
    "    U = 1\n",
    "    for _ in range(k):\n",
    "        U *= 1 - random()\n",
    "    return -log(U)/(1/mu)\n",
    "\n",
    "# Distribución Weibull\n",
    "def Weibull(beta, lamda):\n",
    "    U = random()\n",
    "    return lamda * (log(1/U)**(1/beta))"
   ]
  },
  {
   "cell_type": "code",
   "execution_count": null,
   "metadata": {},
   "outputs": [],
   "source": [
    "nSim = 10000\n",
    "# para Pareto\n",
    "a = 2\n",
    "# para Erlang\n",
    "k = 2\n",
    "mu = 2\n",
    "# para Weibull\n",
    "beta = 2\n",
    "lamda = 1\n",
    "\n",
    "resPareto = 0\n",
    "resErlang = 0\n",
    "resWeibull = 0\n",
    "\n",
    "for i in range(nSim):\n",
    "    resPareto += Pareto(a)\n",
    "    resErlang += Erlang(k, mu)\n",
    "    resWeibull += Weibull(beta, lamda)\n",
    "print(f'E[X ~ Pareto(a={a})] = {resPareto/nSim:.10},  Esperanza exacta = {a/(a-1)}')\n",
    "print(f'E[X ~ Erlang(k={k}, mu={mu})] = {resErlang/nSim:.10}, Esperanza exacta = {k / (1/mu)}')\n",
    "print(f'E[X ~ Weibull(lamda={lamda}, beta={beta})] = {resWeibull/nSim}')"
   ]
  },
  {
   "attachments": {},
   "cell_type": "markdown",
   "metadata": {},
   "source": [
    "## Ejercicio 3: Método de la composición\n",
    "**b)** Genere datos usando tres exponenciales independientes con media 3, 5 y 7 respectivamente y p = (0.5, 0.3, 0.2). Calcule la esperanza de la mezcla y estime con 10000 repeticiones."
   ]
  },
  {
   "cell_type": "code",
   "execution_count": null,
   "metadata": {},
   "outputs": [],
   "source": [
    "def Exponencial(lamda):\n",
    "    U = random()\n",
    "    return -log(U)/lamda\n",
    "\n",
    "m = [3, 5, 7]\n",
    "p = [0.5, 0.3, 0.2]\n",
    "\n",
    "def Ejercicio3():\n",
    "    U = random()\n",
    "    if U < 0.5:\n",
    "        return Exponencial(1/3)\n",
    "    elif U < 0.8:\n",
    "        return Exponencial(1/5)\n",
    "    else:\n",
    "        return Exponencial(1/7)"
   ]
  },
  {
   "cell_type": "code",
   "execution_count": null,
   "metadata": {},
   "outputs": [],
   "source": [
    "nSim = 10000\n",
    "res = 0\n",
    "for _ in range(nSim):\n",
    "    res += Ejercicio3()\n",
    "print(f'Esperanza de la mezcla: {res/nSim}')\n",
    "print(f'Esperanza exacta: {sum([m[i]*p[i] for i in range(len(p))])}')"
   ]
  },
  {
   "attachments": {},
   "cell_type": "markdown",
   "metadata": {},
   "source": [
    "## Ejercicio 5\n",
    "**b)** Genere una muestra de 10 valores de las variables M = max{X1,...,Xn} y m = min{X1,...,Xn} con distribuciones FM y Fm si Xi son exponenciales independientes con parámetros 1, 2 y 3 respectivamente"
   ]
  },
  {
   "cell_type": "code",
   "execution_count": null,
   "metadata": {},
   "outputs": [],
   "source": [
    "def Exponencial(lamda):\n",
    "    U = random()\n",
    "    return -log(U)/lamda\n",
    "\n",
    "nSim = 10\n",
    "for _ in range(nSim):\n",
    "    X1 = Exponencial(1)\n",
    "    X2 = Exponencial(2)\n",
    "    X3 = Exponencial(3)\n",
    "    M = max([X1, X2, X3])\n",
    "    m = min([X1, X2, X3])\n",
    "    print(f'M = {M:.8}, m = {m:.8}')"
   ]
  },
  {
   "attachments": {},
   "cell_type": "markdown",
   "metadata": {},
   "source": [
    "## Ejercicio 7\n",
    "**a)** Desarrolle dos métodos para generar una variable aleatoria X con densidad de probabilidad:\n",
    "$$\n",
    "f(x)=\n",
    "    \\begin{cases}\n",
    "        1/x & \\text{si } 1\\leq x\\leq e\\\\\n",
    "        0 & \\text{en otro caso}\n",
    "    \\end{cases}\n",
    "$$\n",
    "\n",
    "**i)** Aplicando Transformada Inversa.  \n",
    "**ii)** Aplicando el método de Aceptación y Rechazo con una variable uniforme."
   ]
  },
  {
   "cell_type": "code",
   "execution_count": null,
   "metadata": {},
   "outputs": [],
   "source": [
    "def ejercicio7TI():\n",
    "    return exp(random())\n",
    "\n",
    "def ejercicio7AR():\n",
    "    while True:\n",
    "        Y = uniform(1,e)\n",
    "        U = random()\n",
    "        if U < 1/Y:\n",
    "            return Y"
   ]
  },
  {
   "attachments": {},
   "cell_type": "markdown",
   "metadata": {},
   "source": [
    "**b)** Compare la eficiencia de ambos métodos realizando 10000 simulaciones y comparando el promedio de los valores obtenidos. Compruebe que se obtiene un valor aproximado del valor esperado de X."
   ]
  },
  {
   "cell_type": "code",
   "execution_count": null,
   "metadata": {},
   "outputs": [],
   "source": [
    "nSim = 10000\n",
    "\n",
    "valorEsperado('Transformada Inversa', nSim, ejercicio7TI)\n",
    "valorEsperado('Aceptación y Rechazo', nSim, ejercicio7AR)\n",
    "\n",
    "print(f'Valor exacto de E[X]: {e-1}')"
   ]
  },
  {
   "attachments": {},
   "cell_type": "markdown",
   "metadata": {},
   "source": [
    "**c)** Estime la probabilidad P(X <= 2) y compáreal con el valor real."
   ]
  },
  {
   "cell_type": "code",
   "execution_count": null,
   "metadata": {},
   "outputs": [],
   "source": [
    "nSim = 10000\n",
    "\n",
    "res = 0\n",
    "for _ in range(nSim):\n",
    "    X = ejercicio7TI()\n",
    "    if X <= 2:\n",
    "        res += 1\n",
    "print(f'Con Transformada Inversa en {nSim} simulaciones:')\n",
    "print(f'Valor estimado de P(X <= 2): {res/nSim}\\n')\n",
    "\n",
    "print(f'Valor exacto de P(X <= 2): {log(2)}')"
   ]
  },
  {
   "attachments": {},
   "cell_type": "markdown",
   "metadata": {},
   "source": [
    "## Ejercicio 8\n",
    "**a)** Sean U y V dos variables aleatorias uniformes en (0,1) e independientes. Pruebe que la variable X = U + V tiene una densidad triangular:\n",
    "$$\n",
    "f(x)=\n",
    "    \\begin{cases}\n",
    "        x & \\text{si } 0\\leq x < 1\\\\\n",
    "        2-x & \\text{si } 1\\leq x < 2\\\\\n",
    "        0 & \\text{en otro caso}\n",
    "    \\end{cases}\n",
    "$$\n",
    "\n",
    "**b)** Desarrolle tres algoritmos que simulen la variable X:  \n",
    "**i)** Usando la propiedad que X es suma de dos uniformes.  \n",
    "**ii)** Aplicando transformada inversa.  \n",
    "**iii)** Con el método de rechazo.  \n"
   ]
  },
  {
   "cell_type": "code",
   "execution_count": null,
   "metadata": {},
   "outputs": [],
   "source": [
    "def ejercicio8bi():\n",
    "    U = random()\n",
    "    V = random()\n",
    "    return U + V\n",
    "\n",
    "def ejercicio8TI():\n",
    "    U = random()\n",
    "    if U < 0.5:\n",
    "        return sqrt(2*U)\n",
    "    else:\n",
    "        return 2 - sqrt(2 - 2*U)\n",
    "\n",
    "def ejercicio8AR():\n",
    "    while True:\n",
    "        Y = uniform(0,2)\n",
    "        U = random()\n",
    "        if (Y < 1 and U < Y) or (Y > 1 and Y < 2 and U < 2 - Y):\n",
    "            return Y"
   ]
  },
  {
   "attachments": {},
   "cell_type": "markdown",
   "metadata": {},
   "source": [
    "**c)** Compare la eficiencia de los tres algoritmos. Para cada caso, estimar el valor esperado promediando 10.000 valores simulados, ¿Para qué valor x0 se cumple que P(X > x0) = 0.125?"
   ]
  },
  {
   "cell_type": "code",
   "execution_count": null,
   "metadata": {},
   "outputs": [],
   "source": [
    "nSim = 10000\n",
    "\n",
    "valorEsperado('suma de dos uniformes en (0,1)', nSim, ejercicio8bi)\n",
    "valorEsperado('Transformada Inversa', nSim, ejercicio8TI)\n",
    "valorEsperado('Aceptación y Rechazo', nSim, ejercicio8AR)\n",
    "\n",
    "print(f'Valor exacto de E[X]: 1')"
   ]
  },
  {
   "attachments": {},
   "cell_type": "markdown",
   "metadata": {},
   "source": [
    "**d)** Compare la proporción de veces que el algoritmo devuelve un número mayor que x0 con P(X > x0) = 0.125."
   ]
  },
  {
   "cell_type": "code",
   "execution_count": null,
   "metadata": {},
   "outputs": [],
   "source": [
    "# El número tal que P(X > x0) = 0.125 es 1.5\n",
    "\n",
    "nSim = 100000\n",
    "\n",
    "res = 0\n",
    "for _ in range(nSim):\n",
    "    X = ejercicio8TI()\n",
    "    if X > 1.5:\n",
    "        res += 1\n",
    "print(f'Estimación de P(X > 1.5): {res/nSim}')\n",
    "print('Valor exacto de P(X > 1.5): 0.125')"
   ]
  }
 ],
 "metadata": {
  "kernelspec": {
   "display_name": "Python 3",
   "language": "python",
   "name": "python3"
  },
  "language_info": {
   "codemirror_mode": {
    "name": "ipython",
    "version": 3
   },
   "file_extension": ".py",
   "mimetype": "text/x-python",
   "name": "python",
   "nbconvert_exporter": "python",
   "pygments_lexer": "ipython3",
   "version": "3.10.6"
  },
  "orig_nbformat": 4
 },
 "nbformat": 4,
 "nbformat_minor": 2
}
