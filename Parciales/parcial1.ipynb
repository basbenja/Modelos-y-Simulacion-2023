{
 "cells": [
  {
   "cell_type": "code",
   "execution_count": null,
   "metadata": {},
   "outputs": [],
   "source": [
    "# Ejercicio 2)b)\n",
    "from random import random\n",
    "\n",
    "nSim = [1000, 10000, 100000, 1000000]\n",
    "for N in nSim:\n",
    "    gana_A = 0\n",
    "    for i in range(N):\n",
    "        U = random()\n",
    "        V = random()\n",
    "        if U > 0.5 and V < 0.5:\n",
    "            gana_A += 1\n",
    "        elif (U > 0.5 and V > 0.5) or (U < 0.5 and V < 0.5):\n",
    "            U = random()\n",
    "            V = random()\n",
    "            if U > 0.5 and V < 0.5:\n",
    "                gana_A += 1\n",
    "    print(f\"P(A gane en la primera o en la segunda jugada) en {N} simulaciones = {gana_A/N}\")"
   ]
  },
  {
   "cell_type": "code",
   "execution_count": null,
   "metadata": {},
   "outputs": [],
   "source": [
    "# Ejercicio 4)b), integral a)\n",
    "from random import random\n",
    "from math import exp\n",
    "\n",
    "nSim = [1000, 10000, 100000, 1000000]\n",
    "for N in nSim:\n",
    "    sum = 0\n",
    "    for _ in range(N):\n",
    "        U = random()\n",
    "        sum += (6*U - 3) / (6*U - 3 - exp(6*U - 3))\n",
    "    print(f\"Estimación de la integral con {N} iteraciones: {sum * (6/N)}\")"
   ]
  },
  {
   "cell_type": "code",
   "execution_count": null,
   "metadata": {},
   "outputs": [],
   "source": [
    "# Ejercicio 4)b), integral b)\n",
    "from random import random\n",
    "from math import exp\n",
    "\n",
    "nSim = [1000, 10000, 100000, 1000000]\n",
    "for N in nSim:\n",
    "    sum = 0\n",
    "    for _ in range(N):\n",
    "        U = random()\n",
    "        h_U = (U - 1)**3 * exp(-(U - 1)**3)\n",
    "        g_U = 1 / U**2 * (1/U - 1)**3 * exp(-(1/U - 1)**3)\n",
    "        sum += h_U + g_U\n",
    "    print(f\"Estimación de la integral con {N} iteraciones: {sum / N}\")"
   ]
  }
 ],
 "metadata": {
  "kernelspec": {
   "display_name": "Python 3",
   "language": "python",
   "name": "python3"
  },
  "language_info": {
   "codemirror_mode": {
    "name": "ipython",
    "version": 3
   },
   "file_extension": ".py",
   "mimetype": "text/x-python",
   "name": "python",
   "nbconvert_exporter": "python",
   "pygments_lexer": "ipython3",
   "version": "3.10.6"
  },
  "orig_nbformat": 4
 },
 "nbformat": 4,
 "nbformat_minor": 2
}
