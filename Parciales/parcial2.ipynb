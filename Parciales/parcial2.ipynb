{
 "cells": [
  {
   "cell_type": "code",
   "execution_count": 14,
   "metadata": {},
   "outputs": [],
   "source": [
    "from random import random\n",
    "from math import log"
   ]
  },
  {
   "cell_type": "code",
   "execution_count": 15,
   "metadata": {},
   "outputs": [],
   "source": [
    "def ejercicio1():\n",
    "    U = random()\n",
    "    if U < 0.24:\n",
    "        return 0\n",
    "    elif U < 0.33:\n",
    "        return 1\n",
    "    elif U < 0.64:\n",
    "        return 2\n",
    "    else:\n",
    "        return 3"
   ]
  },
  {
   "cell_type": "code",
   "execution_count": 16,
   "metadata": {},
   "outputs": [
    {
     "data": {
      "text/plain": [
       "0.6606"
      ]
     },
     "execution_count": 16,
     "metadata": {},
     "output_type": "execute_result"
    }
   ],
   "source": [
    "def ejercicio2():\n",
    "    U = random()\n",
    "    if U < 0.5:\n",
    "        return 4*U\n",
    "    else:\n",
    "        return 1/(1-U)\n",
    "    \n",
    "def ejercicio2b(nSim):\n",
    "    res = 0\n",
    "    for _ in range(nSim):\n",
    "        X = ejercicio2()\n",
    "        if X <= 3:\n",
    "            res += 1\n",
    "    return res/nSim\n",
    "\n",
    "ejercicio2b(10000)"
   ]
  },
  {
   "cell_type": "code",
   "execution_count": 54,
   "metadata": {},
   "outputs": [
    {
     "data": {
      "text/plain": [
       "1"
      ]
     },
     "execution_count": 54,
     "metadata": {},
     "output_type": "execute_result"
    }
   ],
   "source": [
    "def Geometrica(p):\n",
    "    U = random()\n",
    "    return int(log(1-U)/log(1-p)) + 1\n",
    "\n",
    "def ejercicio3():\n",
    "    while True:\n",
    "        U = random()\n",
    "        Y = Geometrica(0.6)\n",
    "        if U < 1 / 0.4**(Y-2):\n",
    "            return Y\n",
    "\n",
    "ejercicio3()"
   ]
  },
  {
   "cell_type": "code",
   "execution_count": 20,
   "metadata": {},
   "outputs": [
    {
     "data": {
      "text/plain": [
       "0.1071"
      ]
     },
     "execution_count": 20,
     "metadata": {},
     "output_type": "execute_result"
    }
   ],
   "source": [
    "def Bernoulli(p):\n",
    "    U = random()\n",
    "    if U < p:\n",
    "        return 1\n",
    "    else:\n",
    "        return 0\n",
    "    \n",
    "\n",
    "def ejercicio4():\n",
    "    monto = 0\n",
    "    for _ in range(1000):\n",
    "        X_i = Bernoulli(0.05)\n",
    "        if X_i == 1:\n",
    "            M_i = Exponencial(1/800)\n",
    "            monto += M_i\n",
    "    return monto\n",
    "\n",
    "def ejercicio4b(nSim):\n",
    "    res = 0\n",
    "    for _ in range(nSim):\n",
    "        monto = ejercicio4()\n",
    "        if monto > 50000:\n",
    "            res += 1\n",
    "    return res/nSim\n",
    "\n",
    "ejercicio4b(10000)\n",
    "\n"
   ]
  }
 ],
 "metadata": {
  "kernelspec": {
   "display_name": "Python 3",
   "language": "python",
   "name": "python3"
  },
  "language_info": {
   "codemirror_mode": {
    "name": "ipython",
    "version": 3
   },
   "file_extension": ".py",
   "mimetype": "text/x-python",
   "name": "python",
   "nbconvert_exporter": "python",
   "pygments_lexer": "ipython3",
   "version": "3.10.6"
  },
  "orig_nbformat": 4
 },
 "nbformat": 4,
 "nbformat_minor": 2
}
