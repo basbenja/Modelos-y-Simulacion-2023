{
 "cells": [
  {
   "attachments": {},
   "cell_type": "markdown",
   "metadata": {},
   "source": [
    "# Práctico 4: Generación de variables aleatorias discretas"
   ]
  },
  {
   "attachments": {},
   "cell_type": "markdown",
   "metadata": {},
   "source": [
    "## Ejercicio 1\n",
    "Se baraja un conjunto de n = 100 cartas (numeradas consecutivamente del 1 al 100) y se extrae del mazo una carta por vez. Consideramos que ocurre un \"éxito\" si la i-ésima carta extraída es aquella cuyo número es i (i = 1,...,n)"
   ]
  },
  {
   "attachments": {},
   "cell_type": "markdown",
   "metadata": {},
   "source": [
    "### 1.c.\n",
    "Escriba un programa de simulación para estimar la esperenza y la varianza del número total de éxitos, y de los eventos del inciso (a) con r = 10, y compare los resultados obtenidos en 100, 1000, 10000 y 100000 iteraciones"
   ]
  },
  {
   "cell_type": "code",
   "execution_count": null,
   "metadata": {},
   "outputs": [],
   "source": [
    "from random import choice\n",
    "from numpy import var\n",
    "\n",
    "n = 100\n",
    "nSim = [100, 1000, 10000, 100000]\n",
    "\n",
    "# Estimación de esperanza y varianza del número total de éxitos\n",
    "for N in nSim:\n",
    "    res = []\n",
    "    for i in range(N):\n",
    "        success = 0\n",
    "        cards = [i for i in range(1, n+1)]\n",
    "        for j in range(1, n+1):\n",
    "            U = choice(cards)\n",
    "            if U == j:\n",
    "                success += 1\n",
    "            cards.remove(U)  # No repongo la carta que extraje\n",
    "        res.append(success)\n",
    "    print(f'Con {N} simulaciones:')\n",
    "    print(f'E[número total de éxitos] = {(sum(res)/N):.5}')\n",
    "    print(f'Var[número total de éxitos] = {var(res):.5}\\n')\n"
   ]
  },
  {
   "cell_type": "code",
   "execution_count": null,
   "metadata": {},
   "outputs": [],
   "source": [
    "# Estimación de la probabilidad de que las primeras r cartas sean coincidencias, con r = 10\n",
    "r = 10\n",
    "\n",
    "for N in nSim:\n",
    "    res = 0\n",
    "    for i in range(N):\n",
    "        success = 0\n",
    "        cards = [i for i in range(1, n+1)]\n",
    "        for j in range(1, r+1): # Primeras r tiradas\n",
    "            U = choice(cards)\n",
    "            if U == j:\n",
    "                success += 1\n",
    "            cards.remove(U)\n",
    "        if success == 10:\n",
    "            res += 1/N\n",
    "    print(f'Con {N} simulaciones:')\n",
    "    print(f'P[las primeras {r} cartas sean coincidencias] = {res}\\n')"
   ]
  },
  {
   "attachments": {},
   "cell_type": "markdown",
   "metadata": {},
   "source": [
    "## Ejercicio 2\n",
    "Se desea construir una aproximación de:\n",
    "    sumatoria desde k = 1 hasta N = 10000 de exp(k/N)\n",
    "$$\n",
    "\\sum_{i=1}^{n} exp(k/N)\n",
    "$$"
   ]
  },
  {
   "attachments": {},
   "cell_type": "markdown",
   "metadata": {},
   "source": [
    "**2.a.** Escriba un algoritmo para estimar la cantidad deseada.  \n",
    "**2.b.** Obtenga la aproximación sorteando 100 números aleatorios.  \n",
    "**2.c.** Escriba un algoritmo para calcular la suma de los primeros 100 términos, y compare el valor exacto con las dos aproximaciones, y el tiempo de cálculo."
   ]
  },
  {
   "cell_type": "code",
   "execution_count": null,
   "metadata": {},
   "outputs": [],
   "source": [
    "from random import randint\n",
    "from math import exp\n",
    "\n",
    "# Ejercicio 2)a)\n",
    "# Algoritmo para estimación\n",
    "def ejercicio2a(N, m):\n",
    "    \"\"\"\n",
    "        N = cantidad de términos de la sumatoria real\n",
    "        m = cantidad de números aleatorios para calcular la estimación\n",
    "    \"\"\"\n",
    "    res = 0\n",
    "    for _ in range(m):\n",
    "        res += exp(randint(1, N)/N)\n",
    "    return N * (res/m)\n",
    "\n",
    "\n",
    "# Ejercicio 2)b)\n",
    "# Aproximación sorteando 100 números aleatorios\n",
    "N = 10000\n",
    "m = 100\n",
    "print(f'Aproximación sorteando 100 números aleatorios: {ejercicio2a(N, m):.8}')\n",
    "\n",
    "\n",
    "# Ejercicio 2)c)\n",
    "# Valor exacto\n",
    "res = 0\n",
    "for k in range(1, N+1):\n",
    "    res += exp(k/N)\n",
    "print(f'Valor exacto: {res:.8}')\n"
   ]
  },
  {
   "attachments": {},
   "cell_type": "markdown",
   "metadata": {},
   "source": [
    "## Ejercicio 3\n",
    "Se lanzan simultáneamente un par de dados legales y se anota el resultado de la suma de ambos. El proceso se repite hasta que todos los resultados posibles: 2,3,...,12 hayan aparecido al menos una vez. Estudiar mediante una simulación la variable N, el número de lanzamientos necesarios para cumplir el proceso. Cada lanzamiento implica arrojar el par de dados."
   ]
  },
  {
   "cell_type": "code",
   "execution_count": null,
   "metadata": {},
   "outputs": [],
   "source": [
    "from random import randint\n",
    "\n",
    "def play_game() -> int:\n",
    "    possible_results = [0] * 11\n",
    "    throws = 0\n",
    "    while sum(possible_results) < 11:\n",
    "        throws += 1\n",
    "        throw = randint(1, 6) + randint(1, 6)\n",
    "        if possible_results[throw-2] == 0:\n",
    "            possible_results[throw-2] = 1\n",
    "    return throws"
   ]
  },
  {
   "attachments": {},
   "cell_type": "markdown",
   "metadata": {},
   "source": [
    "**3.b.(i)** Mediante una implementación en computadora: el valor medio y la desviación estándar del número de lanzamientos, repitiendo el algoritmo: 100, 1000, 10000 y 100000 veces."
   ]
  },
  {
   "cell_type": "code",
   "execution_count": null,
   "metadata": {},
   "outputs": [],
   "source": [
    "from statistics import variance\n",
    "\n",
    "# Ejercicio 3)b)i)\n",
    "nSim = [100, 1000, 10000, 100000]\n",
    "\n",
    "for N in nSim:\n",
    "    res = []\n",
    "    for i in range(N):\n",
    "        throws = play_game()\n",
    "        res.append(throws)\n",
    "    print(f'Con {N} simulaciones:')\n",
    "    print(f'E[N] = {sum(res)/N:.8}')\n",
    "    print(f'Var[N] = {variance(res):.8}\\n')"
   ]
  },
  {
   "attachments": {},
   "cell_type": "markdown",
   "metadata": {},
   "source": [
    "**3.b.(ii)** Mediante una implementación en computadora: estime la probabilidad de que N sea por lo menos 15 y la probabilidad de que N sea a lo sumo 9 repitiendo el algoritmo: 100, 1000, 10000 y 100000 veces."
   ]
  },
  {
   "cell_type": "code",
   "execution_count": null,
   "metadata": {},
   "outputs": [],
   "source": [
    "# Ejercicio 3)b)ii)\n",
    "for N in nSim:\n",
    "    res_9 = 0\n",
    "    res_15 = 0\n",
    "    for i in range(N):\n",
    "        success_9 = 0\n",
    "        success_15 = 0\n",
    "        throws = play_game()\n",
    "        if throws <= 9:\n",
    "            success_9 += 1\n",
    "        if throws >= 15:\n",
    "            success_15 += 1\n",
    "        res_9 += success_9/N\n",
    "        res_15 += success_15/N\n",
    "    print(f'Con {N} simulaciones:')\n",
    "    print(f'P(N <= 9) = {res_9}')\n",
    "    print(f'P(N >= 15) = {res_15:.8}\\n')"
   ]
  },
  {
   "attachments": {},
   "cell_type": "markdown",
   "metadata": {},
   "source": [
    "## Ejercicio 4\n",
    "Implemente tres métodos para generar una variable X que toma los valores del 1 al 10, con probabilidades p1 = 0.11, p2 = 0.14, p3 = 0.09, p4 = 0.08, p5 = 0.12, p6 = 0.10, p7 = 0.09, p8 = 0.07, p9 = 0.11, p10 = 0.09 usando:"
   ]
  },
  {
   "cell_type": "code",
   "execution_count": null,
   "metadata": {},
   "outputs": [],
   "source": [
    "from random import random\n",
    "\n",
    "# p = dict.fromkeys([i for i in range(1,11)], 0)\n",
    "# pi = [0.11, 0.14, 0.09, 0.08, 0.12, 0.1, 0.09, 0.07, 0.11, 0.09]\n",
    "\n",
    "# i = 1\n",
    "# for v in pi:\n",
    "#     p[i] = v\n",
    "#     i += 1\n",
    "\n",
    "p = [0.11, 0.14, 0.09, 0.08, 0.12, 0.1, 0.09, 0.07, 0.11, 0.09]"
   ]
  },
  {
   "attachments": {},
   "cell_type": "markdown",
   "metadata": {},
   "source": [
    "**4.a.** Método de rechazo con una uniforme discreta"
   ]
  },
  {
   "cell_type": "code",
   "execution_count": null,
   "metadata": {},
   "outputs": [],
   "source": [
    "def ejercicio4a():\n",
    "    while True:\n",
    "        Y = int(10 * random()) + 1  # Y es una uniforme discreta (usando lo visto en clase)\n",
    "        U = random()\n",
    "        if U < p[Y-1] / (1.4 * (1/10)):\n",
    "            return Y\n",
    "\n",
    "# ejercicio4a()"
   ]
  },
  {
   "attachments": {},
   "cell_type": "markdown",
   "metadata": {},
   "source": [
    "**4.b** Transformada inversa"
   ]
  },
  {
   "cell_type": "code",
   "execution_count": null,
   "metadata": {},
   "outputs": [],
   "source": [
    "# Para aumentar la eficiencia, ordeno las probabilidades de mayor a menor\n",
    "# p.sort(reverse = True)\n",
    "\n",
    "def ejercicio4b():\n",
    "    U = random()\n",
    "    if U < p[0]:\n",
    "        # return 2\n",
    "        return 1\n",
    "    elif U < sum(p[0:2]):\n",
    "        # return 5\n",
    "        return 2\n",
    "    elif U < sum(p[0:3]):\n",
    "        # return 1\n",
    "        return 3\n",
    "    elif U < sum(p[0:4]):\n",
    "        # return 9\n",
    "        return 4\n",
    "    elif U < sum(p[0:5]):\n",
    "        # return 6\n",
    "        return 5\n",
    "    elif U < sum(p[0:6]):\n",
    "        # return 3\n",
    "        return 6\n",
    "    elif U < sum(p[0:7]):\n",
    "        # return 7\n",
    "        return 7\n",
    "    elif U < sum(p[0:8]):\n",
    "        # return 10\n",
    "        return 8\n",
    "    elif U < sum(p[0:9]):\n",
    "        # return 4\n",
    "        return 9\n",
    "    else:\n",
    "        # return 8\n",
    "        return 10\n",
    "\n",
    "ejercicio4b()"
   ]
  },
  {
   "attachments": {},
   "cell_type": "markdown",
   "metadata": {},
   "source": [
    "**4.c** Método de la urna: utilizar un arreglo A de tamaño 100 donde cada valor i está en exactamente pi ∗ 100\n",
    "posiciones. El método debe devolver A[k] con probabilidad 0.01. ¿Por qué funciona?"
   ]
  },
  {
   "cell_type": "code",
   "execution_count": null,
   "metadata": {},
   "outputs": [],
   "source": [
    "# Construcción del arreglo A\n",
    "from numpy import concatenate\n",
    "\n",
    "A1 = [1] * int(p[0]*100)\n",
    "A2 = [2] * int(p[1]*100)\n",
    "A3 = [3] * int(p[2]*100)\n",
    "A4 = [4] * int(p[3]*100)\n",
    "A5 = [5] * int(p[4]*100)\n",
    "A6 = [6] * int(p[5]*100)\n",
    "A7 = [7] * int(p[6]*100)\n",
    "A8 = [8] * int(p[7]*100)\n",
    "A9 = [9] * int(p[8]*100)\n",
    "A10 = [10] * int(p[9]*100)\n",
    "A = concatenate((A1, A2, A3, A4, A5, A6, A7, A8, A9, A10), axis=None)\n",
    "\n",
    "def ejercicio4c():\n",
    "    return A[int(random() * 100)]\n",
    "\n",
    "ejercicio4c()"
   ]
  },
  {
   "attachments": {},
   "cell_type": "markdown",
   "metadata": {},
   "source": [
    "## Ejercicio 5\n",
    "Implemente dos métodos para generar una binomial Bin(n, p):"
   ]
  },
  {
   "cell_type": "code",
   "execution_count": null,
   "metadata": {},
   "outputs": [],
   "source": [
    "from random import random"
   ]
  },
  {
   "attachments": {},
   "cell_type": "markdown",
   "metadata": {},
   "source": [
    "**5.i.** Usando transformada inversa."
   ]
  },
  {
   "cell_type": "code",
   "execution_count": null,
   "metadata": {},
   "outputs": [],
   "source": [
    "def ejercicio5a(n, p):\n",
    "    j = 0\n",
    "    prob = (1-p)**n             # P(Bin(n,p) = 0)\n",
    "    F = prob                    # Función de distribución acumulada\n",
    "    c = p/(1-p)\n",
    "    U = random()\n",
    "\n",
    "    while U >= F:\n",
    "        prob *= (n-j)/(j+1)*c   # Fórmula iterativa de la fpm de una Bin(n,p)\n",
    "        F += prob\n",
    "        j += 1\n",
    "\n",
    "    return j"
   ]
  },
  {
   "attachments": {},
   "cell_type": "markdown",
   "metadata": {},
   "source": [
    "**5.ii.** Simulando n ensayos con probabilidad de éxito p y contando el número de éxitos."
   ]
  },
  {
   "cell_type": "code",
   "execution_count": null,
   "metadata": {},
   "outputs": [],
   "source": [
    "def ejercicio5b(n, p):\n",
    "    success = 0\n",
    "    for _ in range(n):\n",
    "        U = random()\n",
    "        if U < p:\n",
    "            success += 1\n",
    "    return success"
   ]
  },
  {
   "attachments": {},
   "cell_type": "markdown",
   "metadata": {},
   "source": [
    "Para ambos métodos:  \n",
    "**a)** Compare la eficiencia de ambos algoritmos para n = 10 y p = 0.3, evaluando el tiempo necesario para\n",
    "realizar 10000 simulaciones.  \n",
    "**b)** Estime el valor con mayor ocurrencia y la proporción de veces que se obtuvieron los valores 0 y 10\n",
    "respectivamente.  \n",
    "**c)** Compare estos valores con las probabilidades teóricas de la binomial. Si están alejados, revise el código."
   ]
  },
  {
   "cell_type": "code",
   "execution_count": null,
   "metadata": {},
   "outputs": [],
   "source": [
    "import time\n",
    "\n",
    "n = 10\n",
    "p = 0.3\n",
    "N = 10000\n",
    "\n",
    "# Ejercicio 5)a)\n",
    "start_time = time.time()\n",
    "for i in range(N):\n",
    "    ejercicio5a(n, p)\n",
    "print(f'Transformada inversa:    --- {time.time() - start_time} seconds ---')\n",
    "\n",
    "start_time = time.time()\n",
    "for i in range(N):\n",
    "    ejercicio5b(n, p)\n",
    "print(f'Simulación de ensayos:   --- {time.time() - start_time} seconds ---\\n')\n",
    "\n",
    "\n",
    "# Ejercicios 5)b) y 5)c)\n",
    "a = [0] * 11\n",
    "res0 = 0\n",
    "res10 = 0\n",
    "for i in range(N):\n",
    "    successes = ejercicio5a(n, p)\n",
    "    a[successes] += 1\n",
    "    if successes == 0:\n",
    "        res0 += 1\n",
    "    elif successes == 10:\n",
    "        res10 += 1\n",
    "print('En 10000 simulaciones con transformada inversa:')\n",
    "print(f'E[X] = {a.index(max(a))}, valor exacto: 3')\n",
    "print(f'P[X = 0] = {res0/N}, valor exacto: 0.28247')\n",
    "print(f'P[X = 10] = {res10/N}, valor exacto: 0.000005\\n')\n",
    "\n",
    "a = [0] * 11\n",
    "res0 = 0\n",
    "res10 = 0\n",
    "for i in range(N):\n",
    "    successes = ejercicio5b(n, p)\n",
    "    a[successes] += 1\n",
    "    if successes == 0:\n",
    "        res0 += 1\n",
    "    elif successes == 10:\n",
    "        res10 += 1\n",
    "print('En 10000 simulaciones con simulación de ensayos:')\n",
    "print(f'E[X] = {a.index(max(a))}, valor exacto: 3')\n",
    "print(f'P[X = 0] = {res0/N}, valor exacto: 0.28247')\n",
    "print(f'P[X = 10] = {res10/N}, valor exacto: 0.000005')"
   ]
  },
  {
   "attachments": {},
   "cell_type": "markdown",
   "metadata": {},
   "source": [
    "## Ejercicio 6\n",
    "Una variable aleatoria X tiene una función de probabilidad puntual pi = P(X = i) dada por p0 = 0.15, p1 = 0.20, p2 = 0.10, p3 = 0.35, p4 = 0.20."
   ]
  },
  {
   "cell_type": "code",
   "execution_count": 186,
   "metadata": {},
   "outputs": [],
   "source": [
    "from random import random\n",
    "\n",
    "p = [0.15, 0.2, 0.1, 0.35, 0.2]"
   ]
  },
  {
   "attachments": {},
   "cell_type": "markdown",
   "metadata": {},
   "source": [
    "**6.i.** Describir mediante un pseudocodigo un algoritmo que simule X utilizando el método de la transformada inversa y que minimice el número esperado de búsquedas."
   ]
  },
  {
   "cell_type": "code",
   "execution_count": 225,
   "metadata": {},
   "outputs": [],
   "source": [
    "# Para minimizar el número esperado de búsquedas, hay que ordenar las probabilidades\n",
    "# de mayor a menor\n",
    "p_min = p.copy()\n",
    "p_min.sort(reverse=True)\n",
    "\n",
    "def ejercicio6i():\n",
    "    U = random()\n",
    "    if U < p_min[0]:\n",
    "        return 3\n",
    "    elif U < sum(p_min[0:2]):\n",
    "        return 1\n",
    "    elif U < sum(p_min[0:3]):\n",
    "        return 4\n",
    "    elif U < sum(p_min[0:4]):\n",
    "        return 0\n",
    "    else:\n",
    "        return 2"
   ]
  },
  {
   "attachments": {},
   "cell_type": "markdown",
   "metadata": {},
   "source": [
    "**6.ii** Describir mediante un pseudocodigo un algoritmo que simule X utilizando el método de aceptación y\n",
    "rechazo con una variable soporte Y con distribución binomial B(4,0.45)."
   ]
  },
  {
   "cell_type": "code",
   "execution_count": 226,
   "metadata": {},
   "outputs": [
    {
     "data": {
      "text/plain": [
       "3"
      ]
     },
     "execution_count": 226,
     "metadata": {},
     "output_type": "execute_result"
    }
   ],
   "source": [
    "from math import comb\n",
    "\n",
    "def fpmBin(n, p, i):\n",
    "    return comb(n, i) * p**i * (1-p)**(n-i)\n",
    "\n",
    "# Arreglo que en la posición i tiene P[Bin(4, 0.45) = i]\n",
    "q = [0] * 5\n",
    "for i in range(5):\n",
    "    q[i] = fpmBin(4, 0.45, i)\n",
    "\n",
    "c = max(p) / min(q)\n",
    "\n",
    "def ejercicio6ii():\n",
    "    # Generamos un valor para Y ~ Bin(4, 0.45)\n",
    "    while True:\n",
    "        Y = ejercicio5a(4, 0.45)\n",
    "        U = random()\n",
    "        if U < p[Y] / (c * q[Y]):\n",
    "            return Y\n",
    "\n",
    "ejercicio6ii()"
   ]
  },
  {
   "attachments": {},
   "cell_type": "markdown",
   "metadata": {},
   "source": [
    "**6.iii** Compare la eficiencia de los dos algoritmos realizando 10000 simulaciones."
   ]
  },
  {
   "cell_type": "code",
   "execution_count": 231,
   "metadata": {},
   "outputs": [
    {
     "name": "stdout",
     "output_type": "stream",
     "text": [
      "Transformada inversa:    --- 0.0057408809661865234 seconds ---\n",
      "Aceptación y rechazo:    --- 0.06001853942871094 seconds ---\n",
      "\n"
     ]
    }
   ],
   "source": [
    "import time\n",
    "\n",
    "N = 10000\n",
    "\n",
    "# Ejercicio 5)a)\n",
    "start_time = time.time()\n",
    "for i in range(N):\n",
    "    ejercicio6i()\n",
    "print(f'Transformada inversa:    --- {time.time() - start_time} seconds ---')\n",
    "\n",
    "start_time = time.time()\n",
    "for i in range(N):\n",
    "    ejercicio6ii()\n",
    "print(f'Aceptación y rechazo:    --- {time.time() - start_time} seconds ---\\n')"
   ]
  },
  {
   "attachments": {},
   "cell_type": "markdown",
   "metadata": {},
   "source": [
    "## Ejercicio 7\n",
    "Estime P(Y > 2) con λ = 0.7, y 1000 repeticiones para la variable Poisson simulando con método de transformada inversa común e inversa mejorado."
   ]
  },
  {
   "cell_type": "code",
   "execution_count": 6,
   "metadata": {},
   "outputs": [],
   "source": [
    "from math import exp\n",
    "from random import random\n",
    "\n",
    "# Transformada inversa común\n",
    "def PoissonComun(lamda):\n",
    "    i = 0\n",
    "    p = exp(-lamda)\n",
    "    F = p\n",
    "    U = random()\n",
    "\n",
    "    while U >= F:\n",
    "        i += 1\n",
    "        p *= lamda / i\n",
    "        F += p   # Fórmula iterativa para la fpm de una Poisson\n",
    "\n",
    "    return i\n",
    "\n",
    "# Transformada inversa mejorado\n",
    "def PoissonMejorado(lamda):\n",
    "    # Generamos F(int(lamda))\n",
    "    p = exp(-lamda)\n",
    "    F = p\n",
    "    for j in range(1, int(lamda) + 1):\n",
    "        p *= lamda / j\n",
    "        F += p   # Fórmula iterativa para la fpm de una Poisson\n",
    "    U = random()\n",
    "\n",
    "    # Búsqueda ascendente\n",
    "    if U >= F:\n",
    "        j = int(lamda) + 1\n",
    "        while U >= F:\n",
    "            p *= lamda / j\n",
    "            F += p   # Fórmula iterativa para la fpm de una Poisson\n",
    "            j += 1\n",
    "        return j-1\n",
    "    # Búsqueda descendente\n",
    "    else:\n",
    "        j = int(lamda)\n",
    "        while U < F:\n",
    "            F -= p   # Fórmula iterativa para la fpm de una Poisson\n",
    "            p *= j / lamda\n",
    "            j -= 1\n",
    "        return j+1"
   ]
  },
  {
   "cell_type": "code",
   "execution_count": 5,
   "metadata": {},
   "outputs": [
    {
     "name": "stdout",
     "output_type": "stream",
     "text": [
      "Con trasnformada inversa común en 1000 simulaciones:\n",
      "P[Y > 2] = 0.039\n",
      "\n",
      "Con trasnformada inversa mejorado en 1000 simulaciones:\n",
      "P[Y > 2] = 0.035\n"
     ]
    }
   ],
   "source": [
    "N = 1000\n",
    "\n",
    "res = 0\n",
    "for i in range(N):\n",
    "    if PoissonComun(0.7) > 2:\n",
    "        res += 1\n",
    "print(f'Con trasnformada inversa común en {N} simulaciones:')\n",
    "print(f'P[Y > 2] = {res/N}\\n')\n",
    "\n",
    "res = 0\n",
    "for i in range(N):\n",
    "    if PoissonMejorado(0.7) > 2:\n",
    "        res += 1\n",
    "print(f'Con trasnformada inversa mejorado en {N} simulaciones:')\n",
    "print(f'P[Y > 2] = {res/N}')"
   ]
  },
  {
   "attachments": {},
   "cell_type": "markdown",
   "metadata": {},
   "source": [
    "## Ejercicio 8"
   ]
  },
  {
   "attachments": {},
   "cell_type": "markdown",
   "metadata": {},
   "source": [
    "**8.a.** Desarrolle el método de la Trasformada Inversa y el de Rechazo para generar una variable aleatoria\n",
    "X cuya distribución de probabilidad está dada por: (ver Práctico)"
   ]
  },
  {
   "cell_type": "code",
   "execution_count": 7,
   "metadata": {},
   "outputs": [],
   "source": [
    "from math import exp, factorial\n",
    "from random import random\n",
    "\n",
    "def fpmEjercicio8(lamda, i, k):\n",
    "    numerator = ((lamda**i) / factorial(i)) * exp(-lamda)\n",
    "    denominator = 0\n",
    "    for j in range(k+1):\n",
    "        denominator += ((lamda**j) / factorial(j)) * exp(-lamda)\n",
    "    return numerator / denominator\n",
    "\n",
    "# Transformada inversa\n",
    "def TransInvEj8(lamda, k):\n",
    "    i = 0\n",
    "    p = fpmEjercicio8(lamda, 0, k)\n",
    "    F = p\n",
    "    U = random()\n",
    "\n",
    "    while U >= F:\n",
    "        p *= lamda / (i + 1)    # Fórmula iterativa (ver cuaderno)\n",
    "        F += p\n",
    "        i += 1\n",
    "\n",
    "    return i\n",
    "\n",
    "# Aceptación y rechazo\n",
    "def fpmPoisson(lamda, i):\n",
    "    return exp(-lamda) * ((lamda**i) / factorial(i))\n",
    "\n",
    "def AcepRechazoEj8(lamda, k):\n",
    "    # El \"mejor\" c usando una Poisson de parámetro lamda como soporte (ver cuaderno)\n",
    "    c = 0\n",
    "    for j in range(k+1):\n",
    "        c += ((lamda**j) / factorial(j)) * exp(-lamda)\n",
    "    c = 1/c\n",
    "\n",
    "    while True:\n",
    "        # Genero una Poisson de parámetro lamda usando el ejercicio anterior\n",
    "        Y = PoissonMejorado(lamda)\n",
    "        p_Y = fpmEjercicio8(lamda, Y, k)\n",
    "        q_Y = fpmPoisson(lamda, Y)\n",
    "\n",
    "        U = random()\n",
    "        if U < p_Y / (c * q_Y):\n",
    "            return Y"
   ]
  },
  {
   "attachments": {},
   "cell_type": "markdown",
   "metadata": {},
   "source": [
    "**8.b.** Estime P(X > 2) con k = 10 y λ = 0.7, y 1000 repeticiones. Compare con el valor exacto."
   ]
  },
  {
   "cell_type": "code",
   "execution_count": 27,
   "metadata": {},
   "outputs": [
    {
     "name": "stdout",
     "output_type": "stream",
     "text": [
      "Con Transformada Inversa en 1000 repeticiones:\n",
      "P[X > 2] = 0.035\n",
      "\n",
      "Con Aceptación y Rechazo en 1000 repeticiones:\n",
      "P[X > 2] = 0.037\n",
      "\n",
      "Valor exacto de P[X > 2] = 0.03414158\n"
     ]
    }
   ],
   "source": [
    "k = 10\n",
    "lamda = 0.7\n",
    "\n",
    "N = 1000\n",
    "\n",
    "res = 0\n",
    "for i in range(N):\n",
    "    X = TransInvEj8(lamda, k)\n",
    "    if X > 2:\n",
    "        res += 1\n",
    "print(f'Con Transformada Inversa en {N} repeticiones:')\n",
    "print(f'P[X > 2] = {res/N}\\n')\n",
    "\n",
    "res = 0\n",
    "for i in range(N):\n",
    "    X = AcepRechazoEj8(lamda, k)\n",
    "    if X > 2:\n",
    "        res += 1\n",
    "print(f'Con Aceptación y Rechazo en {N} repeticiones:')\n",
    "print(f'P[X > 2] = {res/N}\\n')\n",
    "\n",
    "# Valor exacto\n",
    "# P(X > 2) = 1 - P(X <= 2) = 1 - F(2) = 1 - [P(X = 0) + P(X = 1) + P(X = 2)]\n",
    "# Uso la fórmula iterativa\n",
    "p = fpmEjercicio8(lamda, 0, k)\n",
    "F = p\n",
    "for i in range(2):\n",
    "    p *= lamda / (i + 1)    # p = P(X = i+1) (Fórmula iterativa (ver cuaderno))\n",
    "    F += p\n",
    "print(f'Valor exacto de P[X > 2] = {1 - F:.7}')"
   ]
  },
  {
   "attachments": {},
   "cell_type": "markdown",
   "metadata": {},
   "source": [
    "**8.c.** Generalice el problema escribiendo un pseudocodigo para el metodo de rechazo para cualquier variable aleatoria truncada usando como soporte a la variable original (con “cualquier variable aleatoria truncada” nos referimos a una variable como la vista en el inciso (a) pero ahora truncada en cualquier parte i = a,...,b)."
   ]
  },
  {
   "cell_type": "code",
   "execution_count": null,
   "metadata": {},
   "outputs": [],
   "source": [
    "# Pendiente..."
   ]
  },
  {
   "attachments": {},
   "cell_type": "markdown",
   "metadata": {},
   "source": [
    "## Ejercicio 9\n",
    "Implemente dos métodos para simular una variable geométrica Geom(p):"
   ]
  },
  {
   "attachments": {},
   "cell_type": "markdown",
   "metadata": {},
   "source": [
    "**9.a.** Usando transformada inversa y aplicando la fórmula recursiva para P(X = i)."
   ]
  },
  {
   "cell_type": "code",
   "execution_count": 40,
   "metadata": {},
   "outputs": [],
   "source": [
    "'''\n",
    "RECORDAR:\n",
    "Para una variable aleatoria X ~ Geom(p):\n",
    "    P(X = i) = p * (1-p)^(i-1)   para i >= 1\n",
    "Fórmula recursiva:\n",
    "    P(X = i+1) = p * (1-p)^((i+1)-1)\n",
    "               = p * (1-p)^i * (1-p)^1 * (1-p)^(-1)\n",
    "               = p * (1-p)^(i-1)  * (1-p)\n",
    "               = P(X = i) * (1-p)\n",
    "'''\n",
    "\n",
    "from random import random\n",
    "\n",
    "def GeometricaTransInv(p):\n",
    "    i = 1\n",
    "    prob = p\n",
    "    F = prob\n",
    "    U = random()\n",
    "\n",
    "    while U >= F:\n",
    "        prob *= (1-p)\n",
    "        F += prob\n",
    "        i += 1\n",
    "\n",
    "    return i"
   ]
  },
  {
   "attachments": {},
   "cell_type": "markdown",
   "metadata": {},
   "source": [
    "**9.b.** Simulando ensayos con probabilidad de éxito p hasta obtener un éxito."
   ]
  },
  {
   "cell_type": "code",
   "execution_count": 38,
   "metadata": {},
   "outputs": [],
   "source": [
    "def GeometricaEnsayos(p):\n",
    "    i = 1\n",
    "    U = random()\n",
    "    while U > p:\n",
    "        U = random()\n",
    "        i += 1\n",
    "    return i"
   ]
  },
  {
   "attachments": {},
   "cell_type": "markdown",
   "metadata": {},
   "source": [
    "**9.c.** Compare la eficiencia de estos algoritmos para p = 0.8 y para p = 0.2.\n",
    "Para cada caso, realice 10000 simulaciones y calcular el promedio de los valores obtenidos. Comparar estos\n",
    "valores con el valor esperado de la distribución correspondiente. Si están alejados, revisar el código."
   ]
  },
  {
   "cell_type": "code",
   "execution_count": 51,
   "metadata": {},
   "outputs": [
    {
     "name": "stdout",
     "output_type": "stream",
     "text": [
      "X ~ Geom(p=0.8)\n",
      "\n",
      "Con Transformada Inversa en 1000 simulaciones:\n",
      "E[X] = 1.2489999999999832\n",
      "Triempo de ejecución:    --- 0.0005354881286621094 seconds ---\n",
      "\n",
      "Con simulación de ensayos en 1000 simulaciones:\n",
      "E[X] = 1.2269999999999839\n",
      "Tiempo de ejecución:    --- 0.0004467964172363281 seconds ---\n",
      "\n",
      "Valor exacto de E[X] = 1.25\n"
     ]
    }
   ],
   "source": [
    "from time import time\n",
    "\n",
    "N = 1000\n",
    "p = 0.8\n",
    "\n",
    "print(f'X ~ Geom(p={p})\\n')\n",
    "\n",
    "start_time = time()\n",
    "res = 0\n",
    "for i in range(N):\n",
    "    X = GeometricaTransInv(p)\n",
    "    res += X/N\n",
    "print(f'Con Transformada Inversa en {N} simulaciones:')\n",
    "print(f'E[X] = {res}')\n",
    "print(f'Triempo de ejecución:    --- {time() - start_time} seconds ---\\n')\n",
    "\n",
    "start_time = time()\n",
    "res = 0\n",
    "for i in range(N):\n",
    "    X = GeometricaEnsayos(p)\n",
    "    res += X/N\n",
    "print(f'Con simulación de ensayos en {N} simulaciones:')\n",
    "print(f'E[X] = {res}')\n",
    "print(f'Tiempo de ejecución:    --- {time() - start_time} seconds ---\\n')\n",
    "\n",
    "print(f'Valor exacto de E[X] = {1/p}')\n"
   ]
  },
  {
   "attachments": {},
   "cell_type": "markdown",
   "metadata": {},
   "source": [
    "## Ejercicio 10\n",
    "**10.a.** Desarrolle un método para generar una variable aleatoria X cuya distribución de probabilidad está dada por: (ver cuaderno)"
   ]
  },
  {
   "attachments": {},
   "cell_type": "markdown",
   "metadata": {},
   "source": [
    "**10.b.** Estime E[X] con 1000 repeticiones y compare con la esperanza exacta."
   ]
  }
 ],
 "metadata": {
  "kernelspec": {
   "display_name": "Python 3",
   "language": "python",
   "name": "python3"
  },
  "language_info": {
   "codemirror_mode": {
    "name": "ipython",
    "version": 3
   },
   "file_extension": ".py",
   "mimetype": "text/x-python",
   "name": "python",
   "nbconvert_exporter": "python",
   "pygments_lexer": "ipython3",
   "version": "3.10.6"
  },
  "orig_nbformat": 4
 },
 "nbformat": 4,
 "nbformat_minor": 2
}
