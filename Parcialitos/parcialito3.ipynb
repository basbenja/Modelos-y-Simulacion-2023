{
 "cells": [
  {
   "cell_type": "code",
   "execution_count": 21,
   "metadata": {},
   "outputs": [],
   "source": [
    "from scipy.stats import poisson, chi2, binom"
   ]
  },
  {
   "cell_type": "code",
   "execution_count": 30,
   "metadata": {},
   "outputs": [],
   "source": [
    "def T(k, n, p_i, N):\n",
    "    \"\"\"\n",
    "    Estadístico Chi Cuadrado.\n",
    "\n",
    "    Args:\n",
    "        k (int): cantidad de valores que puede tomar la variable aleatoria\n",
    "        n (int): tamaño muestral\n",
    "        p_i (list[float]): probabilidades teóricas para cada valor que puede\n",
    "        tomar la distribución de la hipótesis nula\n",
    "        N (list[int]): frecuencias observadas\n",
    "\n",
    "    Returns:\n",
    "        t (float): estadístico Chi Cuadrad observado a partir de la muestra\n",
    "    \"\"\"\n",
    "    t = 0\n",
    "    for i in range(k):\n",
    "        t += (N[i] - n*p_i[i])**2 / (n*p_i[i])\n",
    "    return t"
   ]
  },
  {
   "attachments": {},
   "cell_type": "markdown",
   "metadata": {},
   "source": [
    "Sea X la v.a. que cuenta el número de tornados observados en una región particular en el período de un mes. Se toman los valores de X a lo largo de 20 meses y se obtuvieron los siguientes datos:\n",
    "\n",
    "&emsp; [2, 1, 1, 8, 0, 5, 10, 4, 2, 2, 3, 3, 4, 6, 3, 3, 2, 4, 5, 6]\n",
    "\n",
    "Un investigador realiza una prueba con la siguiente hipótesis: \"Los datos corresponden a una distribución de Poisson con parámetro λ=3\", considerando las frecuencias del 0, 1, 2, 3, 4, 5 y agrupando todos los valores mayores o iguales a 6."
   ]
  },
  {
   "cell_type": "code",
   "execution_count": 45,
   "metadata": {},
   "outputs": [
    {
     "name": "stdout",
     "output_type": "stream",
     "text": [
      "Valor observado del estadístico T: 3.6798\n"
     ]
    }
   ],
   "source": [
    "# Muestra\n",
    "X = [2, 1, 1, 8, 0, 5, 10, 4, 2, 2, 3, 3, 4, 6, 3, 3, 2, 4, 5, 6]\n",
    "\n",
    "# Tamaño muestral\n",
    "n = len(X)\n",
    "\n",
    "# Frecuencias observadas\n",
    "# Como una variable Poisson toma infinitos valores, se agrupan en una cantidad finita:\n",
    "# los que toman el valor 0, 1, 2, 3, 4, 5 y los mayores o iguales a 6\n",
    "k = 7\n",
    "N = [0] * k\n",
    "for x in X:\n",
    "    if x < 6:\n",
    "        N[x] += 1\n",
    "    else:\n",
    "        N[6] += 1\n",
    "\n",
    "# Probabilidades usando la distribución establecida en la hipótesis nula\n",
    "p_i = [0] * k\n",
    "for i in range(6):\n",
    "    p_i[i] = poisson.pmf(i, mu=3)\n",
    "p_i[6] = 1 - poisson.cdf(5, mu=3)\n",
    "\n",
    "# Estadístico Chi Cuadrado\n",
    "t = T(k, n, p_i, N)\n",
    "print(f'Valor observado del estadístico T: {round(t,4)}')"
   ]
  },
  {
   "attachments": {},
   "cell_type": "markdown",
   "metadata": {},
   "source": [
    "**Aproximación del p-valor utilizando la prueba de Pearson con aproximación chi-cuadrada**"
   ]
  },
  {
   "cell_type": "code",
   "execution_count": 48,
   "metadata": {},
   "outputs": [
    {
     "name": "stdout",
     "output_type": "stream",
     "text": [
      "Aproximación del p-valor con Chi-cuadrado: 0.7199\n"
     ]
    }
   ],
   "source": [
    "p_valor = 1 - chi2.cdf(t, k-1)\n",
    "print(f'Aproximación del p-valor con Chi-cuadrado: {round(p_valor,4)}')"
   ]
  },
  {
   "attachments": {},
   "cell_type": "markdown",
   "metadata": {},
   "source": [
    "**Aproximación del p-valor utilizando una simulación**"
   ]
  },
  {
   "cell_type": "code",
   "execution_count": 42,
   "metadata": {},
   "outputs": [
    {
     "name": "stdout",
     "output_type": "stream",
     "text": [
      "Aproximación del p-valor con 1000 simulaciones: 0.711\n"
     ]
    }
   ],
   "source": [
    "# Para la simulación, genero las frecuencias observadas\n",
    "nSim = 1000\n",
    "p_valor = 0\n",
    "for i in range(nSim):\n",
    "    X = poisson.rvs(mu=3, size=n)\n",
    "    N = [0] * k\n",
    "    for x in X:\n",
    "        if x < 6:\n",
    "            N[x] += 1\n",
    "        else:\n",
    "            N[6] += 1\n",
    "    t_i = T(k, n, p_i, N)\n",
    "    if t_i >= t:\n",
    "        p_valor += 1\n",
    "print(f'Aproximación del p-valor con {nSim} simulaciones: {p_valor / nSim}')"
   ]
  }
 ],
 "metadata": {
  "kernelspec": {
   "display_name": "Python 3",
   "language": "python",
   "name": "python3"
  },
  "language_info": {
   "codemirror_mode": {
    "name": "ipython",
    "version": 3
   },
   "file_extension": ".py",
   "mimetype": "text/x-python",
   "name": "python",
   "nbconvert_exporter": "python",
   "pygments_lexer": "ipython3",
   "version": "3.10.6"
  },
  "orig_nbformat": 4
 },
 "nbformat": 4,
 "nbformat_minor": 2
}
