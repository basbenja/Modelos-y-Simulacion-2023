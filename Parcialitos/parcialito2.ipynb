{
 "cells": [
  {
   "attachments": {},
   "cell_type": "markdown",
   "metadata": {},
   "source": [
    "Sea X una variable aleatoria que toma  los valores del 0 al 4 con probabilidades:\n",
    "\n",
    "p0 = 0.05  \n",
    "p1 = 0.1  \n",
    "p2 = 0.2  \n",
    "p3 = 0.3  \n",
    "p4 = 0.35"
   ]
  },
  {
   "cell_type": "code",
   "execution_count": 2,
   "metadata": {},
   "outputs": [],
   "source": [
    "p = [0.05, 0.1, 0.2, 0.3, 0.35]"
   ]
  },
  {
   "attachments": {},
   "cell_type": "markdown",
   "metadata": {},
   "source": [
    "**1)** Escribir una función ejercicio1a() en python que genere valores de la variable X usando el método de aceptación y rechazo, rechazando con una variable uniforme discreta, y escribir una función ejercicio1b(N) que estime su valor esperado con N simulaciones usando la función ejercicio1a(). Imprimir el valor de ejercicio1b(10000)."
   ]
  },
  {
   "cell_type": "code",
   "execution_count": 3,
   "metadata": {},
   "outputs": [],
   "source": [
    "from random import random\n",
    "\n",
    "def udiscreta(a,b):\n",
    "    U = random()\n",
    "    return int(U * (b-a+1)) + a"
   ]
  },
  {
   "cell_type": "code",
   "execution_count": 14,
   "metadata": {},
   "outputs": [
    {
     "data": {
      "text/plain": [
       "2.7906"
      ]
     },
     "execution_count": 14,
     "metadata": {},
     "output_type": "execute_result"
    }
   ],
   "source": [
    "def ejercicio1a():\n",
    "    while True:\n",
    "        Y = udiscreta(0, 4)     # P(Y = j) = 1/5 para j=0,1,2,3,4\n",
    "        q_j = 1/5\n",
    "        U = random()\n",
    "        c = max(p) / q_j\n",
    "        if U < p[Y] / (c * q_j):\n",
    "            return Y\n",
    "        \n",
    "def ejercicio1b(N):\n",
    "    res = 0\n",
    "    for _ in range(N):\n",
    "        X = ejercicio1a()\n",
    "        res += X\n",
    "    return res/N\n",
    "\n",
    "ejercicio1b(10000)\n"
   ]
  },
  {
   "attachments": {},
   "cell_type": "markdown",
   "metadata": {},
   "source": [
    "2) Escribir una función ejercicio2a() en python que genere valores de la variable X usando el método de la transformada inversa mejorada, y escribir una función ejercicio2b(N) que estime su valor esperado con N simulaciones usando la función ejercicio2a(). Imprimir el valor de ejercicio2b(10000)."
   ]
  },
  {
   "cell_type": "code",
   "execution_count": 18,
   "metadata": {},
   "outputs": [
    {
     "data": {
      "text/plain": [
       "2.79428"
      ]
     },
     "execution_count": 18,
     "metadata": {},
     "output_type": "execute_result"
    }
   ],
   "source": [
    "# Ordeno el arreglo p de mayor a menor:\n",
    "# p = [0.35, 0.3, 0.2, 0.1, 0.05]\n",
    "\n",
    "def ejercicio2a():\n",
    "    U = random()\n",
    "    if U < 0.35:\n",
    "        return 4\n",
    "    elif U < 0.65:\n",
    "        return 3\n",
    "    elif U < 0.85:\n",
    "        return 2\n",
    "    elif U < 0.95:\n",
    "        return 1\n",
    "    else:\n",
    "        return 0\n",
    "    \n",
    "def ejercicio2b(N):\n",
    "    res = 0\n",
    "    for _ in range(N):\n",
    "        X = ejercicio2a()\n",
    "        res += X\n",
    "    return res/N\n",
    "\n",
    "ejercicio2b(100000)"
   ]
  },
  {
   "attachments": {},
   "cell_type": "markdown",
   "metadata": {},
   "source": [
    "3) Escribir un código ejercicio3() que calcule e imprima el valor esperado exacto de la variable aleatoria X."
   ]
  },
  {
   "cell_type": "code",
   "execution_count": 20,
   "metadata": {},
   "outputs": [
    {
     "name": "stdout",
     "output_type": "stream",
     "text": [
      "El valor exacto de E[X] es 2.8\n"
     ]
    }
   ],
   "source": [
    "def ejercicio3():\n",
    "    res = 0\n",
    "    for i in range(5):\n",
    "        res += i * p[i] \n",
    "    print(f'El valor exacto de E[X] es {res}')\n",
    "\n",
    "ejercicio3()"
   ]
  }
 ],
 "metadata": {
  "kernelspec": {
   "display_name": "Python 3",
   "language": "python",
   "name": "python3"
  },
  "language_info": {
   "codemirror_mode": {
    "name": "ipython",
    "version": 3
   },
   "file_extension": ".py",
   "mimetype": "text/x-python",
   "name": "python",
   "nbconvert_exporter": "python",
   "pygments_lexer": "ipython3",
   "version": "3.10.6"
  },
  "orig_nbformat": 4
 },
 "nbformat": 4,
 "nbformat_minor": 2
}
