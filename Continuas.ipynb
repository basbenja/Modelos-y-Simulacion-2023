{
 "cells": [
  {
   "cell_type": "code",
   "execution_count": 4,
   "metadata": {},
   "outputs": [],
   "source": [
    "from random import random\n",
    "from math import log, sqrt, pi, cos, sin, exp"
   ]
  },
  {
   "attachments": {},
   "cell_type": "markdown",
   "metadata": {},
   "source": [
    "X ~ Exp(lambda)"
   ]
  },
  {
   "cell_type": "code",
   "execution_count": 2,
   "metadata": {},
   "outputs": [],
   "source": [
    "def Exponencial(lamda):\n",
    "    U = random()\n",
    "    return -log(U)/lamda"
   ]
  },
  {
   "attachments": {},
   "cell_type": "markdown",
   "metadata": {},
   "source": [
    "X ~ Normal(mu, sigma)"
   ]
  },
  {
   "cell_type": "code",
   "execution_count": 1,
   "metadata": {},
   "outputs": [],
   "source": [
    "def NormalConExponenciales(mu, sigma):\n",
    "    while True:\n",
    "        Y1 = Exponencial(1)\n",
    "        Y2 = Exponencial(1)\n",
    "        if Y2 > (Y1-1)**2 / 2:\n",
    "            U = random()\n",
    "            if U <= 0.5:\n",
    "                return Y1 * sigma + mu\n",
    "            else:\n",
    "                return -Y1 * sigma + mu"
   ]
  },
  {
   "cell_type": "code",
   "execution_count": 2,
   "metadata": {},
   "outputs": [],
   "source": [
    "def MetodoPolar(mu, sigma):\n",
    "    Rcuadrado = -2 * log(1 - random())      # Rcuadrado ~ Exp(1/2)\n",
    "    Theta = 2 * pi * random()               # Theta ~ U(0, 2pi)\n",
    "    # Transformaciones de Box-Muller\n",
    "    X = sqrt(Rcuadrado) * cos(Theta)\n",
    "    Y = sqrt(Rcuadrado) * sin(Theta)\n",
    "    return (X * sigma + mu, Y * sigma + mu)"
   ]
  },
  {
   "cell_type": "code",
   "execution_count": null,
   "metadata": {},
   "outputs": [],
   "source": [
    "# Implementación en Python del método de razón de uniformes para la función\n",
    "# random.normalvariate(mu, sigma)\n",
    "NV_MAGICCONST = 4 * exp(-0.5) / sqrt(2.0)\n",
    "def normalvariate(mu, sigma):\n",
    "    while 1:\n",
    "        u1 = random()\n",
    "        u2 = 1.0 - random()\n",
    "        z = NV_MAGICCONST * (u1 - 0.5) / u2\n",
    "        zz = z * z / 4.0\n",
    "        if zz <= -log(u2):\n",
    "            break\n",
    "    return mu + z * sigma"
   ]
  }
 ],
 "metadata": {
  "kernelspec": {
   "display_name": "Python 3",
   "language": "python",
   "name": "python3"
  },
  "language_info": {
   "codemirror_mode": {
    "name": "ipython",
    "version": 3
   },
   "file_extension": ".py",
   "mimetype": "text/x-python",
   "name": "python",
   "nbconvert_exporter": "python",
   "pygments_lexer": "ipython3",
   "version": "3.10.6"
  },
  "orig_nbformat": 4
 },
 "nbformat": 4,
 "nbformat_minor": 2
}
