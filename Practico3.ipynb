{
 "cells": [
  {
   "attachments": {},
   "cell_type": "markdown",
   "metadata": {},
   "source": [
    "## Modelos y Simulación 2023\n",
    "### Práctico 3: Números aleatorios y méetodo de Monte Carlo"
   ]
  },
  {
   "attachments": {},
   "cell_type": "markdown",
   "metadata": {},
   "source": [
    "### Ejercicio 1: generación de números aleatorios    "
   ]
  },
  {
   "attachments": {},
   "cell_type": "markdown",
   "metadata": {},
   "source": [
    "### Ejercicio 1)a)"
   ]
  },
  {
   "attachments": {},
   "cell_type": "markdown",
   "metadata": {},
   "source": [
    "#### Secuencia de Von Neumann"
   ]
  },
  {
   "cell_type": "code",
   "execution_count": null,
   "metadata": {},
   "outputs": [],
   "source": [
    "def vonNeumann(seed, n):\n",
    "    print(f\"Generando secuencia de Von Neumann de {n} números aleatorios:\")\n",
    "    print(f\"Semilla: {seed}\")\n",
    "    x = seed\n",
    "    for i in range(1, n+1):\n",
    "        xi = (x**2 // 100) % 10000\n",
    "        x = xi\n",
    "        print(f\"X_{i}: {xi}\")"
   ]
  },
  {
   "cell_type": "code",
   "execution_count": null,
   "metadata": {},
   "outputs": [],
   "source": [
    "vonNeumann(3792, 15)\n",
    "print()\n",
    "vonNeumann(4010, 15)\n",
    "print()\n",
    "vonNeumann(2100, 15)\n",
    "print()\n",
    "vonNeumann(1234, 15)"
   ]
  },
  {
   "attachments": {},
   "cell_type": "markdown",
   "metadata": {},
   "source": [
    "### Ejercicio 1)b)"
   ]
  },
  {
   "attachments": {},
   "cell_type": "markdown",
   "metadata": {},
   "source": [
    "#### Generadores congruenciales: mixto y multiplicativo"
   ]
  },
  {
   "cell_type": "code",
   "execution_count": null,
   "metadata": {},
   "outputs": [],
   "source": [
    "# Generador mixto (c != 0)\n",
    "def genMixto(a, c, M, u):\n",
    "    if (c == 0):\n",
    "        print(\"Es un generador mixto. c debe ser distinto de 0.\")\n",
    "        return\n",
    "    return (a*u + c) % M\n",
    "\n",
    "# Generador multiplicativo\n",
    "def genMultiplicativo(a, M, u):\n",
    "    return (a*u) % M"
   ]
  },
  {
   "cell_type": "code",
   "execution_count": null,
   "metadata": {},
   "outputs": [],
   "source": [
    "print(\"Secuencia generada por el generador congruencial mixto con a=5, c=4, M=2**5, y0=4\")\n",
    "xi = 4\n",
    "for i in range(11):\n",
    "    yi = genMixto(5, 4, 2**5, xi)\n",
    "    print(f\"y{i}: \\t{yi}\")\n",
    "    xi = yi"
   ]
  },
  {
   "cell_type": "code",
   "execution_count": null,
   "metadata": {},
   "outputs": [],
   "source": [
    "print(\"Secuencia generada por el generador congruencial mixto con a=5, c=4, M=2**5, y0=50\")\n",
    "xi = 50\n",
    "for i in range(11):\n",
    "    yi = genMixto(5, 4, 2**5, xi)\n",
    "    print(f\"y{i}: \\t{yi}\")\n",
    "    xi = yi"
   ]
  },
  {
   "attachments": {},
   "cell_type": "markdown",
   "metadata": {},
   "source": [
    "### Ejercicio 2\n",
    "Se propone el siguiente juego en el cual todas las variables aleatorias que se generan son independientes e idénticamente distribuidas U(0,1).  \n",
    "\n",
    "Se simula una variable aleatoria U:  \n",
    "* Si U < 1/2, se suman dos nuevos números aleatorios: W1 + W2  \n",
    "* Si U >= 1/2, se suman tres nuevos números aleatorios: W1 + W2 + W3  \n",
    "\n",
    "El resultado de la suma, en cualquiera de los casos, es una variable aleatoria X.  \n",
    "\n",
    "Se gana en el juego si X >= 1."
   ]
  },
  {
   "attachments": {},
   "cell_type": "markdown",
   "metadata": {},
   "source": [
    "#### Ejercicio 2)b)\n",
    "Implementar un algoritmo en computadora que estime la probabilidad de ganar, esto es, la fracción de veces que se gana en n realizaciones del juego.\n",
    "Completar la siguiente tabla:  \n",
    "| n | 100 | 1000 | 10000 | 100000 | 1000000 |  \n",
    "| --- | --- | --- | --- | --- | --- |\n",
    "| P(X >= 1)  |  |  |  |  |  |\n"
   ]
  },
  {
   "cell_type": "code",
   "execution_count": null,
   "metadata": {},
   "outputs": [],
   "source": [
    "from random import random\n",
    "\n",
    "juegos = [100, 1000, 10000, 100000, 1000000]\n",
    "for n in juegos:\n",
    "    gano = 0\n",
    "    for i in range(n):\n",
    "        U = random()\n",
    "        if U < 0.5:\n",
    "            X = random() + random()\n",
    "        elif U >= 0.5:\n",
    "            X = random() + random() + random()\n",
    "        if X >= 1:\n",
    "            gano += 1\n",
    "    print(f\"Probabilidad de ganar en {n} realizaciones del juego: {gano/n}\")      "
   ]
  },
  {
   "attachments": {},
   "cell_type": "markdown",
   "metadata": {},
   "source": [
    "### Ejercicio 3\n",
    "Las máquinas tragamonedas usualmente generan un premio cuando hay un acierto. Supongamos que se genera el acierto con el siguiente esquema:  \n",
    "\n",
    "Se genera un número aleatorio U, y:\n",
    "* Si U < 1/3, se suman dos nuevos números aleatorios.\n",
    "* Si U >= 1/3, se suman tres nuevos números aleatorios.\n",
    "\n",
    "Si el resultado de la suma es menor o igual a 2, se genera un acierto"
   ]
  },
  {
   "attachments": {},
   "cell_type": "markdown",
   "metadata": {},
   "source": [
    "#### Ejercicio 3)b)\n",
    "Implementar un algoritmo que estime la probabilidad de acertar, esto es, la fracción de veces que se acierta en n realizaciones del juego.  \n",
    "\n",
    "Completar la siguiente tabla:\n",
    "| n | 100 | 1000 | 10000 | 100000 | 1000000 |  \n",
    "| --- | --- | --- | --- | --- | --- |\n",
    "| P(X <= 2)  |  |  |  |  |  |"
   ]
  },
  {
   "cell_type": "code",
   "execution_count": null,
   "metadata": {},
   "outputs": [],
   "source": [
    "from random import random\n",
    "\n",
    "juegos = [100, 1000, 10000, 100000, 1000000]\n",
    "for n in juegos:\n",
    "    aciertos = 0\n",
    "    for i in range(n):\n",
    "        U = random()\n",
    "        if U < 1/3:\n",
    "            X = random() + random()\n",
    "        elif U >= 1/3:\n",
    "            X = random() + random() + random()\n",
    "        if X <= 2:\n",
    "            aciertos += 1\n",
    "    print(f\"Probabilidad de ganar en {n} realizaciones del juego: {aciertos/n}\")"
   ]
  },
  {
   "attachments": {},
   "cell_type": "markdown",
   "metadata": {},
   "source": [
    "### Ejercicio 4\n",
    "Un supermercado posee 3 cajas, de la cuales, por una cuestión de ubicación:\n",
    "* El 40% de los clientes elegien la caja 1 para pagar.\n",
    "* El 32% de los clientes elegien la caja 2 para pagar.\n",
    "* El 28% de los clientes elegien la caja 3 para pagar.\n",
    "\n",
    "El tiempo que espera una persona para ser atendido en cada caja distribuye exponencialmente con medias 3, 4 y 5 respectivamente."
   ]
  },
  {
   "attachments": {},
   "cell_type": "markdown",
   "metadata": {},
   "source": [
    "#### Ejercicio 4)a)\n",
    "¿Cuál es la probabilidad de que un cliente espere menos de 4 minutos para ser atendido?\n",
    "\n",
    "#### Ejercicio 4)b)\n",
    "Si el cliente tuvo que esperar más de 4 minutos, ¿cuál es la probabilidad de que el cliente haya elegido cada una de las cajas?\n",
    "\n",
    "#### Ejercicio 4)c)\n",
    "Simule el problema y estime las probabilidades anteriores con 1000 iteraciones."
   ]
  },
  {
   "cell_type": "code",
   "execution_count": null,
   "metadata": {},
   "outputs": [],
   "source": [
    "# Ejercicio 4)a)\n",
    "# Sea X la variable aleatoria que representa el tiempo en minutos que un cliente espera para ser atendido\n",
    "# Quiero calcular P(X < 4)\n",
    "# Esto es, la fracción de veces que el cliente tuvo que esperar menos de 4 minutos en simulaciones\n",
    "from random import random, expovariate\n",
    "\n",
    "def tiempo_de_espera():\n",
    "    U = random()\n",
    "\n",
    "    if U < 0.4:\n",
    "        # Caja 1\n",
    "        t =  expovariate(1/3)\n",
    "    elif U < 0.72:\n",
    "        # Caja 2\n",
    "        t = expovariate(1/4)\n",
    "    else:\n",
    "        # Caja 3\n",
    "        t = expovariate(1/5)\n",
    "    return t\n",
    "\n",
    "n_simulaciones = [100, 1000, 10000, 100000, 1000000]\n",
    "for n in n_simulaciones:\n",
    "    menos_de_4 = 0\n",
    "    for i in range(n):\n",
    "        if tiempo_de_espera() < 4:\n",
    "            menos_de_4 += 1\n",
    "    print(f\"P(X < 4) en {n} simulaciones: {menos_de_4/n}\")\n"
   ]
  },
  {
   "cell_type": "code",
   "execution_count": null,
   "metadata": {},
   "outputs": [],
   "source": [
    "# Ejercicio 4)b)\n",
    "# Sea X la variable aleatoria que representa el tiempo en minutos que un cliente espera para ser atendido\n",
    "# Quiero calcular P(C = 1 | X > 4), P(C = 2 | X > 4), P(C = 3 | X > 4)\n",
    "# Esto es, la fracción de veces que el cliente eligió cada caja, dado que esperó más de 4 minutos\n",
    "from random import random, expovariate\n",
    "\n",
    "def tiempo_de_espera_y_caja():\n",
    "    U = random()\n",
    "\n",
    "    if U < 0.4:\n",
    "        # Caja 1\n",
    "        t =  (expovariate(1/3), 1)\n",
    "    elif U < 0.72:\n",
    "        # Caja 2\n",
    "        t = (expovariate(1/4), 2)\n",
    "    else:\n",
    "        # Caja 3\n",
    "        t = (expovariate(1/5), 3)\n",
    "    return t\n",
    "\n",
    "n_simulaciones = [100, 1000, 10000, 100000, 1000000]\n",
    "for n in n_simulaciones:\n",
    "    mas_de_4 = 0\n",
    "    caja1, caja2, caja3 = 0, 0, 0\n",
    "    for i in range(n):\n",
    "        tiempo_de_espera, caja = tiempo_de_espera_y_caja()\n",
    "        if tiempo_de_espera > 4:\n",
    "            mas_de_4 += 1\n",
    "            if caja == 1:\n",
    "                caja1 += 1\n",
    "            elif caja == 2:\n",
    "                caja2 += 1\n",
    "            else:\n",
    "                caja3 += 1\n",
    "    print(f\"En {n} simulaciones:\")\n",
    "    print(f\"P(C = 1 | X > 4) = {caja1/mas_de_4:.4f}\")\n",
    "    print(f\"P(C = 2 | X > 4) = {caja2/mas_de_4:.4f}\")\n",
    "    print(f\"P(C = 3 | X > 4) = {caja3/mas_de_4:.4f}\")\n",
    "    print()"
   ]
  },
  {
   "attachments": {},
   "cell_type": "markdown",
   "metadata": {},
   "source": [
    "### Ejercicio 5: estimación de integrales con el método de Monte Carlo\n",
    "Calcule exactamente el valor de las siguientes integrales. Mediante una simulación de Monte Carlo con n iteraciones, calcule a su vez un valor aproximado y compare con el valor exacto."
   ]
  },
  {
   "attachments": {},
   "cell_type": "markdown",
   "metadata": {},
   "source": [
    "#### Fórmulas generales de Monte Carlo"
   ]
  },
  {
   "cell_type": "code",
   "execution_count": null,
   "metadata": {},
   "outputs": [],
   "source": [
    "\n",
    "from random import random\n",
    "\n",
    "# Integración en [0, 1]\n",
    "def MonteCarlo_01(N, func):\n",
    "    sum = 0\n",
    "    for _ in range(N):\n",
    "        U = random()\n",
    "        sum += func(U)\n",
    "    return sum/N\n",
    "\n",
    "# Integración en [a, b]\n",
    "def MonteCarlo_ab(N, func, a, b):\n",
    "    sum = 0\n",
    "    for _ in range(N):\n",
    "        U = random()\n",
    "        sum += func((b - a) * U + a)\n",
    "    return sum * (b-a) / N\n",
    "\n",
    "\n",
    "# Integración en [0, inf]\n",
    "def MonteCarlo_0inf(N, func):\n",
    "    sum = 0\n",
    "    for _ in range(N):\n",
    "        U = random()\n",
    "        sum += func(1 / U - 1) * (1 / U**2)\n",
    "    return sum/N"
   ]
  },
  {
   "cell_type": "code",
   "execution_count": null,
   "metadata": {},
   "outputs": [],
   "source": [
    "# Ejercicio 5)a)\n",
    "g = lambda x : ((1 - x**2)**(3/2))\n",
    "\n",
    "nSim = [100, 1000, 10000, 100000, 1000000]\n",
    "for N in nSim:\n",
    "    res = MonteCarlo_01(N, g)\n",
    "    print(f\"Estimación de la integral en {N} iteraciones: {res:.5}\")"
   ]
  },
  {
   "cell_type": "code",
   "execution_count": null,
   "metadata": {},
   "outputs": [],
   "source": [
    "# Ejercicio 5)b)\n",
    "g = lambda x : (x / (x**2 - 1))\n",
    "\n",
    "nSim = [100, 1000, 10000, 100000, 1000000]\n",
    "for N in nSim:\n",
    "    res = MonteCarlo_ab(N, g, 2, 3)\n",
    "    print(f\"Estimación de la integral en {N} iteraciones: {res:.5}\")"
   ]
  },
  {
   "cell_type": "code",
   "execution_count": null,
   "metadata": {},
   "outputs": [],
   "source": [
    "# Ejercicio 5)c)\n",
    "g = lambda x : (x * ((1 + x**2)**(-2)))\n",
    "\n",
    "nSim = [100, 1000, 10000, 100000, 1000000]\n",
    "for N in nSim:\n",
    "    res = MonteCarlo_0inf(N, g)\n",
    "    print(f\"Estimación de la integral en {N} iteraciones: {res:.5}\")"
   ]
  },
  {
   "cell_type": "code",
   "execution_count": null,
   "metadata": {},
   "outputs": [],
   "source": [
    "# Ejercicio 5)d)\n",
    "from math import exp\n",
    "\n",
    "g = lambda x : (exp(-x**2))\n",
    "\n",
    "nSim = [100, 1000, 10000, 100000, 1000000]\n",
    "for N in nSim:\n",
    "    res = 2*MonteCarlo_0inf(N, g)\n",
    "    print(f\"Estimación de la integral en {N} iteraciones: {res:.5}\")"
   ]
  },
  {
   "attachments": {},
   "cell_type": "markdown",
   "metadata": {},
   "source": [
    "#### Integración en múltiples variables"
   ]
  },
  {
   "cell_type": "code",
   "execution_count": null,
   "metadata": {},
   "outputs": [],
   "source": [
    "# Integración en [0, 1]\n",
    "def MonteCarlo_01_multiple(N, func):\n",
    "    sum = 0\n",
    "    for _ in range(N):\n",
    "        U = random()\n",
    "        V = random()\n",
    "        sum += func(U, V)\n",
    "    return sum/N"
   ]
  },
  {
   "cell_type": "code",
   "execution_count": null,
   "metadata": {},
   "outputs": [],
   "source": [
    "# Ejercicio 5)e)\n",
    "from math import exp\n",
    "\n",
    "def g(x, y):\n",
    "    return exp((x + y)**2)\n",
    "\n",
    "nSim = [100, 1000, 10000, 100000, 1000000]\n",
    "for N in nSim:\n",
    "    res = MonteCarlo_01_multiple(N, g)\n",
    "    print(f\"Estimación de la integral en {N} iteraciones: {res:.5}\")"
   ]
  },
  {
   "cell_type": "code",
   "execution_count": null,
   "metadata": {},
   "outputs": [],
   "source": [
    "# Ejercicio 5)f)\n",
    "def g(x, y):\n",
    "    return exp(-(x + y))\n",
    "\n",
    "def ejercicio_5f(N, g):\n",
    "    sum = 0\n",
    "    for _ in range(N):\n",
    "        Z = random()\n",
    "        W = random()\n",
    "        sum += (1 / Z**2) * (1 / Z - 1) * g(1 / Z - 1, W * (1 / Z - 1))\n",
    "    return sum / N\n",
    "\n",
    "nSim = [100, 1000, 10000, 100000, 1000000]\n",
    "for N in nSim:\n",
    "    res = ejercicio_5f(N, g)\n",
    "    print(f\"Estimación de la integral en {N} iteraciones: {res:.5}\")"
   ]
  },
  {
   "attachments": {},
   "cell_type": "markdown",
   "metadata": {},
   "source": [
    "### Ejercicio 6)\n",
    "Para U1, U2, ... variables aleatorias uniformement distribuidas en el intervalo (0,1), se define:\n",
    "    N = cantidad de números aleatorias que deben sumarse para exceder a 1"
   ]
  },
  {
   "attachments": {},
   "cell_type": "markdown",
   "metadata": {},
   "source": [
    "#### Ejercicio 6)a)\n",
    "Estimar E[N] generando n valores de N y completar la siguiente tabla:\n",
    "| n | 100 | 1000 | 10000 | 100000 | 1000000 |  \n",
    "| --- | --- | --- | --- | --- | --- |\n",
    "| E[N]  |  |  |  |  |  |"
   ]
  },
  {
   "cell_type": "code",
   "execution_count": 2,
   "metadata": {},
   "outputs": [
    {
     "name": "stdout",
     "output_type": "stream",
     "text": [
      "E[N] con 100 números aletorios: 2.107705083724329\n",
      "E[N] con 1000 números aletorios: 1.999429739824794\n",
      "E[N] con 10000 números aletorios: 2.0114457645796064\n",
      "E[N] con 100000 números aletorios: 2.002448873588538\n",
      "E[N] con 1000000 números aletorios: 1.9984944831998808\n",
      "E[N] con 10000000 números aletorios: 1.99973474330936\n",
      "2.6\n",
      "2.726\n",
      "2.7263\n",
      "2.72142\n",
      "2.71806\n",
      "2.7186653\n"
     ]
    }
   ],
   "source": [
    "from random import random\n",
    "\n",
    "nSim = [100, 1000, 10000, 100000, 1000000, 10000000]\n",
    "for N in nSim:\n",
    "    s = 0\n",
    "    for i in range(N):\n",
    "        U = random()\n",
    "        s += U\n",
    "        if s > 1:\n",
    "            res = i\n",
    "    print(f\"E[N] con {N} números aletorios: {i/s}\")"
   ]
  },
  {
   "attachments": {},
   "cell_type": "markdown",
   "metadata": {},
   "source": [
    "### Ejercicio 7)"
   ]
  },
  {
   "attachments": {},
   "cell_type": "markdown",
   "metadata": {},
   "source": [
    "### Ejercicio 8)"
   ]
  }
 ],
 "metadata": {
  "kernelspec": {
   "display_name": "Python 3 (ipykernel)",
   "language": "python",
   "name": "python3"
  },
  "language_info": {
   "codemirror_mode": {
    "name": "ipython",
    "version": 3
   },
   "file_extension": ".py",
   "mimetype": "text/x-python",
   "name": "python",
   "nbconvert_exporter": "python",
   "pygments_lexer": "ipython3",
   "version": "3.10.6"
  },
  "orig_nbformat": 4
 },
 "nbformat": 4,
 "nbformat_minor": 2
}
