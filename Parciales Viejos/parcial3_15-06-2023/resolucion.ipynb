{
 "cells": [
  {
   "cell_type": "code",
   "execution_count": 11,
   "metadata": {},
   "outputs": [],
   "source": [
    "from random import random\n",
    "from scipy.stats import chi2\n",
    "from numpy import log"
   ]
  },
  {
   "attachments": {},
   "cell_type": "markdown",
   "metadata": {},
   "source": [
    "## Ejercicio 1"
   ]
  },
  {
   "cell_type": "code",
   "execution_count": 2,
   "metadata": {},
   "outputs": [],
   "source": [
    "def T(k, n, p_i, N):\n",
    "    \"\"\"\n",
    "    Estadístico Chi Cuadrado.\n",
    "\n",
    "    Args:\n",
    "        k (int): cantidad de valores que puede tomar la variable aleatoria\n",
    "        n (int): tamaño muestral\n",
    "        p_i (list[float]): probabilidades teóricas para cada valor que puede\n",
    "        tomar la distribución de la hipótesis nula\n",
    "        N (list[int]): frecuencias observadas\n",
    "\n",
    "    Returns:\n",
    "        t (float): estadístico Chi Cuadrad observado a partir de la muestra\n",
    "    \"\"\"\n",
    "    t = 0\n",
    "    for i in range(k):\n",
    "        t += (N[i] - n*p_i[i])**2 / (n*p_i[i])\n",
    "    return t"
   ]
  },
  {
   "attachments": {},
   "cell_type": "markdown",
   "metadata": {},
   "source": [
    "### a) Plantear el test de hipótesis pertinente y realizar el cálculo en papel del estadístico"
   ]
  },
  {
   "attachments": {},
   "cell_type": "markdown",
   "metadata": {},
   "source": [
    "- **Hipótesis nula**: los datos obtenidos en la muestra siguen la distribución global, esto es:  \n",
    "&emsp; La proporción de autos de color:  \n",
    "&emsp;&emsp; - blanco es 0.22  \n",
    "&emsp;&emsp; - plateado es 0.20  \n",
    "&emsp;&emsp; - negro es 0.19  \n",
    "&emsp;&emsp; - gris es 0.12  \n",
    "&emsp;&emsp; - rojo 0.09  \n",
    "&emsp;&emsp; - marrón 0.08  \n",
    "&emsp;&emsp; - verde 0.07  \n",
    "&emsp;&emsp; - azul 0.02  \n",
    "&emsp;&emsp; - otros 0.01  \n",
    "\n",
    "- **Estadístico a utilizar**: como se tratan de datos discretos, el estadístico a utilizar será el del test Chi-cuadrado de Pearson, dado por la siguiente fórmula:\n",
    "$$\n",
    "T = \\sum_{i=0}^{k} \\frac{(N_i - np_i)^2}{np_i}\n",
    "$$\n",
    "&emsp; donde:  \n",
    "&emsp; - k es la cantidad de valores que pueden tomar los datos (en este caso es 9)  \n",
    "&emsp; - $N_i$ es la frecuencia observada del dato i, es decir la cantidad de veces que aparece el valor i en los datos obtenidos de la muestra.  \n",
    "&emsp; - n es el tamaño muestral, es decir la cantidad de datos de la muestra.  \n",
    "&emsp; - $p_i$ es la probabilidad que una variable con la distribución del hipótesis nula tome el valor i.\n",
    "\n",
    "- **p-valor**: siguiendo el test  Chi-cuadrado de Pearson, el p-valor estará definido de la siguiente forma:  \n",
    "&emsp; Si T = t es el valor del estadístico, el p-valor es:\n",
    "$$\n",
    "P_{H_0}(T \\geq t)\n",
    "$$"
   ]
  },
  {
   "cell_type": "code",
   "execution_count": 3,
   "metadata": {},
   "outputs": [
    {
     "name": "stdout",
     "output_type": "stream",
     "text": [
      "Valor observado del estadístico T: 15.964309985059911\n"
     ]
    }
   ],
   "source": [
    "n = 539\n",
    "k = 9\n",
    "N = [120, 114, 92, 85, 34, 33, 45, 11, 5]\n",
    "p = [0.22, 0.2, 0.19, 0.12, 0.09, 0.08, 0.07, 0.02, 0.01]\n",
    "\n",
    "t = T(k, n, p, N)\n",
    "print(f'Valor observado del estadístico T: {t}')"
   ]
  },
  {
   "attachments": {},
   "cell_type": "markdown",
   "metadata": {},
   "source": [
    "### b) Dar el p-valor de la prueba y la conclusión que este provee para un nivel de rechazo $\\alpha = 0.05$"
   ]
  },
  {
   "attachments": {},
   "cell_type": "markdown",
   "metadata": {},
   "source": [
    "#### i) utilizando la aproximación con la distribución $\\chi^2$"
   ]
  },
  {
   "attachments": {},
   "cell_type": "markdown",
   "metadata": {},
   "source": [
    "Recordemos que si la hipótesis nula es cierta y n es lo suficientemente grande, entonces el estadístico T tiene distribución $\\chi$-cuadrado con k-1 grados de libertad: $\\chi_{k-1}^2$. Y luego, teniendo esto en cuenta, y la forma en que definimos el p-valor, tenemos que ahora:\n",
    "$$\n",
    "p-valor = P(T \\geq t) = P(\\chi_{k-1}^2 \\geq t)\n",
    "$$"
   ]
  },
  {
   "cell_type": "code",
   "execution_count": 5,
   "metadata": {},
   "outputs": [
    {
     "name": "stdout",
     "output_type": "stream",
     "text": [
      "p-valor utilizando una aproximación con la distribución Chi-cuadrado: 0.04289380378443686\n"
     ]
    }
   ],
   "source": [
    "p_valor_chi_2 = 1 - chi2.cdf(t, k-1)\n",
    "print(f'p-valor utilizando una aproximación con la distribución Chi-cuadrado: {p_valor_chi_2}')"
   ]
  },
  {
   "attachments": {},
   "cell_type": "markdown",
   "metadata": {},
   "source": [
    "#### ii) realizando 10000 simulaciones"
   ]
  },
  {
   "cell_type": "code",
   "execution_count": 10,
   "metadata": {},
   "outputs": [
    {
     "name": "stdout",
     "output_type": "stream",
     "text": [
      "p-valor obtenido realizando 10000 simulaciones: 0.0455\n"
     ]
    }
   ],
   "source": [
    "# Necesito un algoritmo que genere valores de la muestra teórica:\n",
    "def colores():\n",
    "    U = random()\n",
    "    if U < 0.22:\n",
    "        return 0\n",
    "    elif U < 0.42:\n",
    "        return 1\n",
    "    elif U < 0.61:\n",
    "        return 2\n",
    "    elif U < 0.73:\n",
    "        return 3\n",
    "    elif U < 0.82:\n",
    "        return 4\n",
    "    elif U < 0.9:\n",
    "        return 5\n",
    "    elif U < 0.97:\n",
    "        return 6\n",
    "    elif U < 0.99:\n",
    "        return 7\n",
    "    else:\n",
    "        return 8\n",
    "\n",
    "n_sim = 10000\n",
    "p_valor_sim = 0\n",
    "for _ in range(n_sim):\n",
    "    X = [colores() for i in range(n)]\n",
    "    N_sim = [0] * k\n",
    "    for x in X:\n",
    "        N_sim[x] += 1\n",
    "    t_sim = T(k, n, p, N_sim)\n",
    "    if t_sim >= t:\n",
    "        p_valor_sim += 1\n",
    "print(f'p-valor obtenido realizando {n_sim} simulaciones: {p_valor_sim/n_sim}')"
   ]
  },
  {
   "attachments": {},
   "cell_type": "markdown",
   "metadata": {},
   "source": [
    "## Ejercicio 2"
   ]
  },
  {
   "attachments": {},
   "cell_type": "markdown",
   "metadata": {},
   "source": [
    "### a) Explicar en qué consiste el método de refinamiento con un proceso de Poisson homogéneo para generar este proceso. Determina la tasa del proceso homogéneo utilizado.\n"
   ]
  },
  {
   "attachments": {},
   "cell_type": "markdown",
   "metadata": {},
   "source": [
    "El método de refinamiento es uno que se utiliza para generar un proceso de Poisson **no homogéneo** a partir de la generación de uno **homogéneo**, por lo cual para entenderlo es necesario también saber cómo se genera un proceso de Poisson homogéneo con tasa de intensidad $\\lambda$.\n",
    "\n",
    "Recordemos que en un proceso de Poisson homogéneo con tasa de intensidad $\\lambda$, las variables aleatorias que representan los tiempos de llegada entre eventos sucesivos son exponenciales con parámetro $\\lambda$. Por lo tanto, para generar los primeros n eventos de un proceso de Poisson homogéneo con tasa de intensidad $\\lambda$, basta con generar n exponenciales con parámetro $\\lambda$.\n",
    "\n",
    "Dicho esto, el método de refinamiento para generar un proceso de Poisson homogéneo se basa en la siguiente proposición:\n",
    "&emsp; Supongamos N(t) un proceso de Poisson homogéneo con tasa de intensidad $\\lambda$. Entonces, el proceso M(t) que cuenta los eventos de N(t) con probabilidad p(t) es un proceso de Poisson no homogéneo con intensida $\\lambda(t) = \\lambda . p(t)$\n",
    "\n",
    "Teniendo esta proposición en cuenta, si tomamos $p(t) = \\frac{\\lambda(t)}{\\lambda}$ (con $\\lambda \\geq \\lambda(t)$), entonces tendremos un proceso de Poisson no homogéneo con intensidad $\\lambda(t)$.\n",
    "\n",
    "En este, caso tenemos que $\\lambda(t) = (t-3)^2, 0 \\leq t \\leq 6$. Por lo tanto, una tasa de intensidad $\\lambda$ que cumple que $\\lambda \\geq \\lambda(t)$ para $0 \\leq t \\leq 6$ es $\\lambda = 9$."
   ]
  },
  {
   "attachments": {},
   "cell_type": "markdown",
   "metadata": {},
   "source": [
    "### b) Determinar al menos 4 intervalos para la mejora del algoritmo dada en a). Implementar  en código un programa que simule el proceso con el método de refinamiento mejorado y devuelva una lista de los tiempos de eventos en el intervalo [0,6]."
   ]
  },
  {
   "cell_type": "code",
   "execution_count": 13,
   "metadata": {},
   "outputs": [],
   "source": [
    "def exponencial(lamda):\n",
    "    U = random()\n",
    "    return -log(U)/lamda\n",
    "\n",
    "def poisson_adelgazamiento_mejorado(lamdas, intervs, lamda_t, T):\n",
    "    j = 0       # Recorre subintervalos\n",
    "    t = exponencial(lamdas[j])\n",
    "    eventos = []\n",
    "    while t <= T:\n",
    "        if t <= intervs[j]:\n",
    "            U = random()\n",
    "            if U < lamda_t(t) / lamdas[j]:\n",
    "                eventos.append(round(t,4))\n",
    "            t += exponencial(lamdas[j])\n",
    "        else:\n",
    "            t = intervs[j] + (t - intervs[j]) * lamdas[j] / lamdas[j+1]\n",
    "            j += 1\n",
    "    return eventos, len(eventos)"
   ]
  },
  {
   "cell_type": "code",
   "execution_count": 15,
   "metadata": {},
   "outputs": [
    {
     "name": "stdout",
     "output_type": "stream",
     "text": [
      "Tiempos de eventos hasta el tiempo 6:\n",
      " [0.0581, 0.5357, 0.6035, 0.6546, 0.6788, 0.7692, 0.9921, 1.068, 1.1145, 1.2413, 1.3048, 1.6286, 3.9448, 4.6539, 4.9057, 4.9977, 5.0945, 5.1063, 5.1098, 5.1431, 5.1489, 5.1835, 5.3124, 5.4858, 5.7469, 5.9544]\n"
     ]
    }
   ],
   "source": [
    "\"\"\"\n",
    "Intervalos propuestos:\n",
    "[0,1]: acoto con lambda=9\n",
    "(1,2]: acoto con lambda=4\n",
    "(2,3]: acoto con lambda=1\n",
    "(3,4]: acoto con lambda=1\n",
    "(4,5]: acoto con lambda=4\n",
    "(5,6]: acoto con lambda=9\n",
    "\"\"\"\n",
    "lamda_t = lambda x: (x-3)**2\n",
    "intervs = [1, 2, 3, 4, 5, 6]\n",
    "lamdas = [9, 4, 1, 1, 4, 9]\n",
    "T = 6\n",
    "eventos, _ = poisson_adelgazamiento_mejorado(lamdas, intervs, lamda_t, T)\n",
    "print(f'Tiempos de eventos hasta el tiempo 6:\\n {eventos}')"
   ]
  },
  {
   "cell_type": "code",
   "execution_count": null,
   "metadata": {},
   "outputs": [],
   "source": []
  }
 ],
 "metadata": {
  "kernelspec": {
   "display_name": "Python 3",
   "language": "python",
   "name": "python3"
  },
  "language_info": {
   "codemirror_mode": {
    "name": "ipython",
    "version": 3
   },
   "file_extension": ".py",
   "mimetype": "text/x-python",
   "name": "python",
   "nbconvert_exporter": "python",
   "pygments_lexer": "ipython3",
   "version": "3.10.6"
  },
  "orig_nbformat": 4
 },
 "nbformat": 4,
 "nbformat_minor": 2
}
