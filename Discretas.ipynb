{
 "cells": [
  {
   "cell_type": "code",
   "execution_count": 2,
   "metadata": {},
   "outputs": [],
   "source": [
    "from random import random"
   ]
  },
  {
   "attachments": {},
   "cell_type": "markdown",
   "metadata": {},
   "source": [
    "X ~ U{a,...,b}"
   ]
  },
  {
   "cell_type": "code",
   "execution_count": 3,
   "metadata": {},
   "outputs": [],
   "source": [
    "def Udiscreta(a,b):\n",
    "    U = random()\n",
    "    return int(U * (b-a+1)) + a"
   ]
  },
  {
   "attachments": {},
   "cell_type": "markdown",
   "metadata": {},
   "source": [
    "X ~ Geom(p)"
   ]
  },
  {
   "cell_type": "code",
   "execution_count": 1,
   "metadata": {},
   "outputs": [],
   "source": [
    "'''\n",
    "RECORDAR:\n",
    "Para una variable aleatoria X ~ Geom(p):\n",
    "    P(X = i) = p * (1-p)^(i-1)   para i >= 1\n",
    "Fórmula recursiva:\n",
    "    P(X = i+1) = p * (1-p)^((i+1)-1)\n",
    "               = p * (1-p)^i * (1-p)^1 * (1-p)^(-1)\n",
    "               = p * (1-p)^(i-1)  * (1-p)\n",
    "               = P(X = i) * (1-p)\n",
    "'''\n",
    "\n",
    "# Transformada inversa\n",
    "def GeometricaTI(p):\n",
    "    i = 1\n",
    "    prob = p\n",
    "    F = prob\n",
    "    U = random()\n",
    "\n",
    "    while U >= F:\n",
    "        prob *= (1-p)\n",
    "        F += prob\n",
    "        i += 1\n",
    "\n",
    "    return i\n",
    "\n",
    "# Constante\n",
    "def Geometrica2(p):\n",
    "    U = random()\n",
    "    return int(log(U)/log(1-p)) + 1"
   ]
  },
  {
   "attachments": {},
   "cell_type": "markdown",
   "metadata": {},
   "source": [
    "X ~ Bin(n,p)"
   ]
  },
  {
   "cell_type": "code",
   "execution_count": null,
   "metadata": {},
   "outputs": [],
   "source": [
    "def Binomial(n, p):\n",
    "    j = 0\n",
    "    prob = (1-p)**n             # P(Bin(n,p) = 0)\n",
    "    F = prob                    # Función de distribución acumulada\n",
    "    c = p/(1-p)\n",
    "    U = random()\n",
    "\n",
    "    while U >= F:\n",
    "        prob *= (n-j)/(j+1)*c   # Fórmula iterativa de la fpm de una Bin(n,p)\n",
    "        F += prob\n",
    "        j += 1\n",
    "\n",
    "    return j"
   ]
  },
  {
   "attachments": {},
   "cell_type": "markdown",
   "metadata": {},
   "source": [
    "X ~ Poisson(lambda)"
   ]
  },
  {
   "cell_type": "code",
   "execution_count": null,
   "metadata": {},
   "outputs": [],
   "source": [
    "# Transformada inversa común\n",
    "def PoissonComun(lamda):\n",
    "    i = 0\n",
    "    p = exp(-lamda)\n",
    "    F = p\n",
    "    U = random()\n",
    "\n",
    "    while U >= F:\n",
    "        i += 1\n",
    "        p *= lamda / i  # Fórmula iterativa para la fpm de una Poisson\n",
    "        F += p\n",
    "\n",
    "    return i\n",
    "\n",
    "# Transformada inversa mejorado\n",
    "def PoissonMejorado(lamda):\n",
    "    # Generamos F(int(lamda))\n",
    "    p = exp(-lamda)\n",
    "    F = p\n",
    "    for j in range(1, int(lamda) + 1):\n",
    "        p *= lamda / j  # Fórmula iterativa para la fpm de una Poisson\n",
    "        F += p\n",
    "    U = random()\n",
    "\n",
    "    # Búsqueda ascendente\n",
    "    if U >= F:\n",
    "        j = int(lamda) + 1\n",
    "        while U >= F:\n",
    "            p *= lamda / j\n",
    "            F += p   # Fórmula iterativa para la fpm de una Poisson\n",
    "            j += 1\n",
    "        return j-1\n",
    "    # Búsqueda descendente\n",
    "    else:\n",
    "        j = int(lamda)\n",
    "        while U < F:\n",
    "            F -= p   # Fórmula iterativa para la fpm de una Poisson\n",
    "            p *= j / lamda\n",
    "            j -= 1\n",
    "        return j+1"
   ]
  }
 ],
 "metadata": {
  "kernelspec": {
   "display_name": "Python 3",
   "language": "python",
   "name": "python3"
  },
  "language_info": {
   "codemirror_mode": {
    "name": "ipython",
    "version": 3
   },
   "file_extension": ".py",
   "mimetype": "text/x-python",
   "name": "python",
   "nbconvert_exporter": "python",
   "pygments_lexer": "ipython3",
   "version": "3.10.6"
  },
  "orig_nbformat": 4
 },
 "nbformat": 4,
 "nbformat_minor": 2
}
